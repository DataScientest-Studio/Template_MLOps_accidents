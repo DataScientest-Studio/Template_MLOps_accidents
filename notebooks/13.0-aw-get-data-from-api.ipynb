{
 "cells": [
  {
   "cell_type": "code",
   "execution_count": 38,
   "metadata": {},
   "outputs": [],
   "source": [
    "import requests\n",
    "import json\n",
    "import os\n",
    "from pathlib import Path\n",
    "path_logs = \"../logs\""
   ]
  },
  {
   "cell_type": "code",
   "execution_count": 6,
   "metadata": {},
   "outputs": [],
   "source": [
    "header_admin = {\"identification\": \"admin:4dmin\"}\n",
    "localhost = \"127.0.0.1\"  # or \"api\""
   ]
  },
  {
   "cell_type": "markdown",
   "metadata": {},
   "source": [
    "### Get all users"
   ]
  },
  {
   "cell_type": "code",
   "execution_count": 9,
   "metadata": {},
   "outputs": [
    {
     "data": {
      "text/plain": [
       "{'fdo': {'username': 'fdo', 'password': 'c0ps', 'rights': 0},\n",
       " 'admin': {'username': 'admin', 'password': '4dmin', 'rights': 1},\n",
       " 'policierA': {'username': 'policierA', 'password': 'sherif', 'rights': 0},\n",
       " 'policierB': {'username': 'policierB', 'password': 'colombo', 'rights': 0}}"
      ]
     },
     "execution_count": 9,
     "metadata": {},
     "output_type": "execute_result"
    }
   ],
   "source": [
    "### Get all users:\n",
    "response = requests.get(url=f\"http://{localhost}:8000/users\",\n",
    "                        headers=header_admin)\n",
    "response.json()"
   ]
  },
  {
   "cell_type": "code",
   "execution_count": 11,
   "metadata": {},
   "outputs": [
    {
     "data": {
      "text/plain": [
       "dict_keys(['fdo', 'admin', 'policierA', 'policierB'])"
      ]
     },
     "execution_count": 11,
     "metadata": {},
     "output_type": "execute_result"
    }
   ],
   "source": [
    "response.json().keys()"
   ]
  },
  {
   "cell_type": "markdown",
   "metadata": {},
   "source": [
    "### Get logs"
   ]
  },
  {
   "cell_type": "code",
   "execution_count": 44,
   "metadata": {},
   "outputs": [
    {
     "name": "stdout",
     "output_type": "stream",
     "text": [
      "f1_scores loaded.\n",
      "preds_call loaded.\n",
      "preds_labeled loaded.\n",
      "preds_test loaded.\n",
      "train loaded.\n",
      "update_data loaded.\n"
     ]
    }
   ],
   "source": [
    "# test sur tous les fichiers présents:\n",
    "filenames = os.listdir(path_logs)\n",
    "for filename in filenames:\n",
    "    splitted = filename.split(\".\")[0]\n",
    "    response = requests.post(url=f\"http://{localhost}:8000/get_logs\",\n",
    "                            json={\"name\": splitted},\n",
    "                            headers=header_admin)\n",
    "    print(f\"{splitted} loaded.\")"
   ]
  },
  {
   "cell_type": "code",
   "execution_count": null,
   "metadata": {},
   "outputs": [],
   "source": []
  },
  {
   "cell_type": "code",
   "execution_count": null,
   "metadata": {},
   "outputs": [],
   "source": []
  }
 ],
 "metadata": {
  "kernelspec": {
   "display_name": "my_env",
   "language": "python",
   "name": "python3"
  },
  "language_info": {
   "codemirror_mode": {
    "name": "ipython",
    "version": 3
   },
   "file_extension": ".py",
   "mimetype": "text/x-python",
   "name": "python",
   "nbconvert_exporter": "python",
   "pygments_lexer": "ipython3",
   "version": "3.11.8"
  }
 },
 "nbformat": 4,
 "nbformat_minor": 2
}

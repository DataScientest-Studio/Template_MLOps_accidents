{
 "cells": [
  {
   "cell_type": "code",
   "execution_count": 1,
   "metadata": {},
   "outputs": [],
   "source": [
    "import os\n",
    "from pathlib import Path"
   ]
  },
  {
   "cell_type": "code",
   "execution_count": 2,
   "metadata": {},
   "outputs": [],
   "source": [
    "root_path = \"../\"\n",
    "path_model = os.path.join(root_path, \"models\")"
   ]
  },
  {
   "cell_type": "code",
   "execution_count": 42,
   "metadata": {},
   "outputs": [
    {
     "data": {
      "text/plain": [
       "['rdf_v1.0_shield.joblib', 'rdf_v1.1_shield.joblib']"
      ]
     },
     "execution_count": 42,
     "metadata": {},
     "output_type": "execute_result"
    }
   ],
   "source": [
    "# get model names:\n",
    "model_names = os.listdir(path_model)[1:]\n",
    "model_names"
   ]
  },
  {
   "cell_type": "code",
   "execution_count": 39,
   "metadata": {},
   "outputs": [
    {
     "name": "stdout",
     "output_type": "stream",
     "text": [
      "1\n"
     ]
    }
   ],
   "source": [
    "minor_versions = []\n",
    "for model_name in model_names:\n",
    "    version = model_name.split(\"_\")[1]\n",
    "    minor_version = version.split(\".\")[1]\n",
    "    minor_versions.append(minor_version)\n",
    "latest_minor = max(minor_versions)\n",
    "print(latest_minor)"
   ]
  },
  {
   "cell_type": "code",
   "execution_count": 5,
   "metadata": {},
   "outputs": [],
   "source": [
    "def get_latest_model(path):\n",
    "    model_names = os.listdir(path)[1:]\n",
    "    minor_versions = []\n",
    "    for model_name in model_names:\n",
    "        version = model_name.split(\"_\")[1]\n",
    "        minor_version = version.split(\".\")[1]\n",
    "        minor_versions.append(minor_version)\n",
    "    latest_minor = max(minor_versions)\n",
    "    latest_version = \"rdf_v1.\" + str(latest_minor) + \"_shield.joblib\"\n",
    "    return latest_version"
   ]
  },
  {
   "cell_type": "code",
   "execution_count": 6,
   "metadata": {},
   "outputs": [
    {
     "data": {
      "text/plain": [
       "'rdf_v1.0_shield.joblib'"
      ]
     },
     "execution_count": 6,
     "metadata": {},
     "output_type": "execute_result"
    }
   ],
   "source": [
    "get_latest_model(path_model)"
   ]
  },
  {
   "cell_type": "code",
   "execution_count": null,
   "metadata": {},
   "outputs": [],
   "source": []
  }
 ],
 "metadata": {
  "kernelspec": {
   "display_name": "my_env",
   "language": "python",
   "name": "python3"
  },
  "language_info": {
   "codemirror_mode": {
    "name": "ipython",
    "version": 3
   },
   "file_extension": ".py",
   "mimetype": "text/x-python",
   "name": "python",
   "nbconvert_exporter": "python",
   "pygments_lexer": "ipython3",
   "version": "3.11.8"
  }
 },
 "nbformat": 4,
 "nbformat_minor": 2
}

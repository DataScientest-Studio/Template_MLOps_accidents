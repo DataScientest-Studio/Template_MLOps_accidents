{
 "cells": [
  {
   "cell_type": "markdown",
   "metadata": {},
   "source": [
    "## Gestion des utilisateurs via l'API:"
   ]
  },
  {
   "cell_type": "code",
   "execution_count": 5,
   "metadata": {},
   "outputs": [
    {
     "data": {
      "text/plain": [
       "{'fdo': ['c0ps', 0],\n",
       " 'admin': ['4dmin', 1],\n",
       " 'policierA': ['sherif', 0],\n",
       " 'policierB': ['colombo', 0]}"
      ]
     },
     "execution_count": 5,
     "metadata": {},
     "output_type": "execute_result"
    }
   ],
   "source": [
    "import json\n",
    "\n",
    "# Ouverture du fichier:\n",
    "users_db = open(\"../src/features/api/users_db.json\", 'r')\n",
    "\n",
    "# Chargement du json:\n",
    "users_passwords_db = json.load(users_db)\n",
    "\n",
    "# Visualisation:\n",
    "users_passwords_db"
   ]
  },
  {
   "cell_type": "code",
   "execution_count": 6,
   "metadata": {},
   "outputs": [
    {
     "data": {
      "text/plain": [
       "{'fdo': ['c0ps', 0],\n",
       " 'admin': ['4dmin', 1],\n",
       " 'policierA': ['sherif', 0],\n",
       " 'policierB': ['colombo', 0],\n",
       " 'sherlock': ['BakerStr33t', 0]}"
      ]
     },
     "execution_count": 6,
     "metadata": {},
     "output_type": "execute_result"
    }
   ],
   "source": [
    "# Ajout d'un utilisateur:\n",
    "users_passwords_db[\"sherlock\"] = [\"BakerStr33t\", 0]\n",
    "users_passwords_db"
   ]
  },
  {
   "cell_type": "code",
   "execution_count": 7,
   "metadata": {},
   "outputs": [],
   "source": [
    "# Sauvegarde du json:\n",
    "users_db = json.dumps(users_passwords_db)"
   ]
  },
  {
   "cell_type": "code",
   "execution_count": 8,
   "metadata": {},
   "outputs": [],
   "source": [
    "# Enregistrement du fichier:\n",
    "with open(\"../src/features/api/users_db.json\", \"w\") as outfile:\n",
    "    outfile.write(users_db)"
   ]
  },
  {
   "cell_type": "code",
   "execution_count": null,
   "metadata": {},
   "outputs": [],
   "source": []
  }
 ],
 "metadata": {
  "kernelspec": {
   "display_name": "my_env",
   "language": "python",
   "name": "python3"
  },
  "language_info": {
   "codemirror_mode": {
    "name": "ipython",
    "version": 3
   },
   "file_extension": ".py",
   "mimetype": "text/x-python",
   "name": "python",
   "nbconvert_exporter": "python",
   "pygments_lexer": "ipython3",
   "version": "3.11.5"
  }
 },
 "nbformat": 4,
 "nbformat_minor": 2
}

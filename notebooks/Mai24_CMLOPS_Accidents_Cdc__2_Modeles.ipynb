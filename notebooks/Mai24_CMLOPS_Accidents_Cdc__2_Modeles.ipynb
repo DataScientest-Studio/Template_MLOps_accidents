{
 "cells": [
  {
   "cell_type": "markdown",
   "id": "cf5908d4",
   "metadata": {
    "id": "cf5908d4"
   },
   "source": [
    "# Mai24_CMLOPS_Accidents_Cdc_#2_Modeles"
   ]
  },
  {
   "cell_type": "markdown",
   "id": "12783600",
   "metadata": {
    "id": "12783600"
   },
   "source": [
    "## 1- Analyse de corrélation de variables"
   ]
  },
  {
   "cell_type": "code",
   "execution_count": 1,
   "id": "74ec6fb5",
   "metadata": {
    "id": "74ec6fb5"
   },
   "outputs": [],
   "source": [
    "# Import des bibliothèques nécessaires au projet\n",
    "import pandas as pd\n",
    "import numpy as np\n",
    "import warnings\n",
    "import matplotlib.pyplot as plt\n",
    "import seaborn as sns\n",
    "import plotly.express as px\n",
    "from plotly.offline import init_notebook_mode, iplot\n",
    "import time\n",
    "\n",
    "# Ignorer les avertissements\n",
    "warnings.filterwarnings(\"ignore\", category=pd.errors.DtypeWarning)\n",
    "\n",
    "from imblearn.over_sampling import SMOTE\n",
    "from sklearn.model_selection import train_test_split\n",
    "from imblearn.under_sampling import RandomUnderSampler\n",
    "from imblearn.metrics import classification_report_imbalanced\n",
    "from sklearn.metrics import classification_report, confusion_matrix, accuracy_score\n",
    "\n",
    "from sklearn.ensemble import RandomForestClassifier\n",
    "from sklearn.tree import DecisionTreeClassifier\n",
    "import pickle"
   ]
  },
  {
   "cell_type": "code",
   "execution_count": 2,
   "id": "d2e009b3",
   "metadata": {
    "id": "d2e009b3",
    "outputId": "981de4c5-6c0f-404d-f9a7-e40dc3c67aef"
   },
   "outputs": [
    {
     "name": "stdout",
     "output_type": "stream",
     "text": [
      "Requirement already satisfied: imbalanced-learn in /home/souma/Downloads/yes/lib/python3.10/site-packages (0.12.3)\n",
      "Requirement already satisfied: numpy>=1.17.3 in /home/souma/Downloads/yes/lib/python3.10/site-packages (from imbalanced-learn) (1.23.5)\n",
      "Requirement already satisfied: scipy>=1.5.0 in /home/souma/Downloads/yes/lib/python3.10/site-packages (from imbalanced-learn) (1.12.0)\n",
      "Requirement already satisfied: scikit-learn>=1.0.2 in /home/souma/Downloads/yes/lib/python3.10/site-packages (from imbalanced-learn) (1.4.2)\n",
      "Requirement already satisfied: joblib>=1.1.1 in /home/souma/Downloads/yes/lib/python3.10/site-packages (from imbalanced-learn) (1.4.2)\n",
      "Requirement already satisfied: threadpoolctl>=2.0.0 in /home/souma/Downloads/yes/lib/python3.10/site-packages (from imbalanced-learn) (3.5.0)\n",
      "Note: you may need to restart the kernel to use updated packages.\n"
     ]
    }
   ],
   "source": [
    "pip install imbalanced-learn"
   ]
  },
  {
   "cell_type": "code",
   "execution_count": 3,
   "id": "9e1c7ce1",
   "metadata": {
    "id": "9e1c7ce1"
   },
   "outputs": [],
   "source": [
    "df = pd.read_csv('data 2005a2021.csv', index_col=0)"
   ]
  },
  {
   "cell_type": "code",
   "execution_count": 4,
   "id": "49b0af3c",
   "metadata": {
    "id": "49b0af3c"
   },
   "outputs": [],
   "source": [
    "# colonne non catégorielle\n",
    "colonne_Non_cat=['num_acc', 'an_nais', \"num_veh\", 'annee', 'mois', 'jour', 'com', 'dep', 'hr', 'mn','nbv','lartpc','larrout']\n",
    "\n",
    "# colonne catégorielle\n",
    "cat_columns = [col for col in df.columns if col not in colonne_Non_cat]"
   ]
  },
  {
   "cell_type": "code",
   "execution_count": 5,
   "id": "3327530c",
   "metadata": {
    "id": "3327530c",
    "outputId": "59fbceaf-7231-40a8-d0ed-95747a744246"
   },
   "outputs": [
    {
     "name": "stdout",
     "output_type": "stream",
     "text": [
      "Chi2 avec 'grav':\n",
      "{'lum': 42586.40576514557, 'agg': 89242.82155143883, 'int': 27733.507655346883, 'atm': 5963.580587186945, 'col': 93221.16170445719, 'catv': 102733.36800586228, 'choc': 49738.91297649023, 'manv': 101043.66215875177, 'place': 38465.963033061285, 'catu': 38293.87715526149, 'grav': 4357946.0, 'sexe': 2682.426360463483, 'trajet': 34449.21679522872, 'catr': 102264.44538582121, 'circ': 36994.1938459717, 'prof': 15249.309644481145, 'plan': 36547.93186768001, 'surf': 3357.507010418821, 'situ': 47764.423170739945}\n"
     ]
    }
   ],
   "source": [
    "import scipy.stats as stats\n",
    "\n",
    "# calcul des corrélations pour les variables catégorielles uniquement\n",
    "cat_corr = {}\n",
    "for col in cat_columns:\n",
    "    contingency_table = pd.crosstab(df['grav'], df[col])\n",
    "    chi2, p, dof, ex = stats.chi2_contingency(contingency_table)\n",
    "    cat_corr[col] = chi2\n",
    "\n",
    "print(\"Chi2 avec 'grav':\")\n",
    "print(cat_corr)"
   ]
  },
  {
   "cell_type": "code",
   "execution_count": 6,
   "id": "69807ff9",
   "metadata": {
    "id": "69807ff9",
    "outputId": "352d2cc7-4beb-4458-aeb4-274145cea69c"
   },
   "outputs": [
    {
     "data": {
      "image/png": "[encoded data removed]",
      "text/plain": [
       "<Figure size 640x480 with 1 Axes>"
      ]
     },
     "metadata": {},
     "output_type": "display_data"
    }
   ],
   "source": [
    "# bar plot pour les résultats du test du chi-carré\n",
    "cat_corr_series = pd.Series(cat_corr).sort_values(ascending=False)\n",
    "cat_corr_series.plot(kind='bar')\n",
    "plt.title(\"Chi2 des variables catégorielles avec 'grav'\")\n",
    "plt.ylabel('Chi2 Value')\n",
    "plt.show()"
   ]
  },
  {
   "cell_type": "code",
   "execution_count": 7,
   "id": "a72fbeea",
   "metadata": {
    "id": "a72fbeea"
   },
   "outputs": [],
   "source": [
    "# le nombre de colonnes étant conséquent, nous cherchons à supprimer celles non nécessaires\n",
    "# les variables atm, annee_y, annee_x, sexe et surf ne semblent pas corrélées avec grav - nous les supprimons donc\n",
    "colonnes_a_supprimer = ['atm', 'annee', 'sexe', 'surf', \"num_veh\"]\n",
    "df = df.drop(columns=colonnes_a_supprimer)"
   ]
  },
  {
   "cell_type": "code",
   "execution_count": 8,
   "id": "0a56ac5b",
   "metadata": {
    "id": "0a56ac5b",
    "outputId": "49c4668d-e58d-4f0f-a68a-1d3d94c7dd6e"
   },
   "outputs": [
    {
     "name": "stdout",
     "output_type": "stream",
     "text": [
      "<class 'pandas.core.frame.DataFrame'>\n",
      "Index: 2178973 entries, 200500000001 to 201900058840\n",
      "Data columns (total 26 columns):\n",
      " #   Column   Dtype  \n",
      "---  ------   -----  \n",
      " 0   mois     int64  \n",
      " 1   jour     int64  \n",
      " 2   lum      int64  \n",
      " 3   agg      int64  \n",
      " 4   int      int64  \n",
      " 5   col      float64\n",
      " 6   com      int64  \n",
      " 7   dep      int64  \n",
      " 8   hr       int64  \n",
      " 9   mn       int64  \n",
      " 10  catv     int64  \n",
      " 11  choc     float64\n",
      " 12  manv     float64\n",
      " 13  place    int64  \n",
      " 14  catu     int64  \n",
      " 15  grav     int64  \n",
      " 16  trajet   float64\n",
      " 17  an_nais  int64  \n",
      " 18  catr     int64  \n",
      " 19  circ     float64\n",
      " 20  nbv      int64  \n",
      " 21  prof     float64\n",
      " 22  plan     float64\n",
      " 23  lartpc   int64  \n",
      " 24  larrout  int64  \n",
      " 25  situ     float64\n",
      "dtypes: float64(8), int64(18)\n",
      "memory usage: 448.9 MB\n"
     ]
    }
   ],
   "source": [
    "df.info()"
   ]
  },
  {
   "cell_type": "code",
   "execution_count": 10,
   "id": "a8e4ad4f-eceb-49ab-ad5e-773e73ac80f1",
   "metadata": {},
   "outputs": [
    {
     "data": {
      "text/plain": [
       "2178973"
      ]
     },
     "execution_count": 10,
     "metadata": {},
     "output_type": "execute_result"
    }
   ],
   "source": [
    "len(df)"
   ]
  },
  {
   "cell_type": "code",
   "execution_count": 11,
   "id": "d921bad1-6568-430b-9fbc-aa3edad27c88",
   "metadata": {},
   "outputs": [
    {
     "data": {
      "text/plain": [
       "grav\n",
       "1    1669817\n",
       "3     450462\n",
       "2      58694\n",
       "Name: count, dtype: int64"
      ]
     },
     "execution_count": 11,
     "metadata": {},
     "output_type": "execute_result"
    }
   ],
   "source": [
    "df[\"grav\"].value_counts()"
   ]
  },
  {
   "cell_type": "markdown",
   "id": "1949451c",
   "metadata": {
    "id": "1949451c"
   },
   "source": [
    "## 2- Préparation du jeu de donnée - pré processing"
   ]
  },
  {
   "cell_type": "code",
   "execution_count": 14,
   "id": "3c11b197",
   "metadata": {
    "id": "3c11b197"
   },
   "outputs": [],
   "source": [
    "# on sépare les variables cibles et les caractéristiques\n",
    "X = df.drop(columns=['grav'])\n",
    "y = df['grav']"
   ]
  },
  {
   "cell_type": "code",
   "execution_count": 15,
   "id": "046bca47",
   "metadata": {
    "id": "046bca47"
   },
   "outputs": [],
   "source": [
    "# on divise les données en ensemble d'entraînement et de test\n",
    "X_train, X_test, y_train, y_test = train_test_split(X, y, test_size=0.2, random_state=42)"
   ]
  },
  {
   "cell_type": "code",
   "execution_count": 16,
   "id": "682fb5fe",
   "metadata": {
    "id": "682fb5fe"
   },
   "outputs": [],
   "source": [
    "# nous avons vu dans notre analyse de données que les classes 2 et 3 étaient sous représentées\n",
    "\n",
    "# afin de régler ce déséquilibre de classe, nous allons faire un SMOTE et l'appliquer à nos données\n",
    "#smote = SMOTE(random_state=42)\n",
    "#X_train_resampled, y_train_resampled = smote.fit_resample(X_train, y_train)"
   ]
  },
  {
   "cell_type": "code",
   "execution_count": 17,
   "id": "7cffeea7-c04e-4b1b-ae39-d95763b441a1",
   "metadata": {},
   "outputs": [],
   "source": [
    "#print('Classes échantillon smote :', dict(pd.Series(y_train_resampled).value_counts()))\n",
    "#le nombre de l'échantillon a augmenté (environ 4M)\n",
    "#Classes échantillon smote : {1: 1335601, 3: 1335601, 2: 1335601}\n",
    "#il vaut mieux utiliserla méthode de RandomUnderSampler"
   ]
  },
  {
   "cell_type": "code",
   "execution_count": 30,
   "id": "fad82d10-87ca-483a-8ffb-85ac46e3c58f",
   "metadata": {},
   "outputs": [
    {
     "name": "stdout",
     "output_type": "stream",
     "text": [
      "Classes échantillon undersampled : {1: 46839, 2: 46839, 3: 46839}\n"
     ]
    }
   ],
   "source": [
    "ru =RandomUnderSampler()\n",
    "X_train_resampled, y_train_resampled = ru.fit_resample(X_train, y_train)\n",
    "print('Classes échantillon undersampled :', dict(pd.Series(y_train_resampled).value_counts()))"
   ]
  },
  {
   "cell_type": "markdown",
   "id": "8aecee3e",
   "metadata": {
    "id": "8aecee3e"
   },
   "source": [
    "## 3- Entrainement de plusieurs modèles"
   ]
  },
  {
   "cell_type": "code",
   "execution_count": 33,
   "id": "e1243f0f",
   "metadata": {
    "id": "e1243f0f",
    "outputId": "44a02a21-f731-4de9-c552-f60c98581a95"
   },
   "outputs": [
    {
     "name": "stdout",
     "output_type": "stream",
     "text": [
      "Temps d'entraînement du modèle : 0.72 secondes\n",
      "Confusion Matrix:\n",
      "[[229890  36627  67699]\n",
      " [  1431   7711   2713]\n",
      " [ 20770  30338  38616]]\n",
      "\n",
      "Classification Report:\n",
      "              precision    recall  f1-score   support\n",
      "\n",
      "           1       0.91      0.69      0.78    334216\n",
      "           2       0.10      0.65      0.18     11855\n",
      "           3       0.35      0.43      0.39     89724\n",
      "\n",
      "    accuracy                           0.63    435795\n",
      "   macro avg       0.46      0.59      0.45    435795\n",
      "weighted avg       0.78      0.63      0.69    435795\n",
      "\n",
      "\n",
      "Accuracy Score:\n",
      "0.6338232425796533\n"
     ]
    }
   ],
   "source": [
    "# entrainement d un arbre de decision\n",
    "\n",
    "model_tree_clf = DecisionTreeClassifier(random_state=42, max_depth=10)\n",
    "\n",
    "start_time = time.time()\n",
    "model_tree_clf.fit(X_train_resampled, y_train_resampled)\n",
    "end_time = time.time()\n",
    "\n",
    "training_time = end_time - start_time\n",
    "print(f\"Temps d'entraînement du modèle : {training_time:.2f} secondes\")\n",
    "\n",
    "y_pred = model_tree_clf.predict(X_test)\n",
    "\n",
    "print(\"Confusion Matrix:\")\n",
    "print(confusion_matrix(y_test, y_pred))\n",
    "\n",
    "print(\"\\nClassification Report:\")\n",
    "print(classification_report(y_test, y_pred))\n",
    "\n",
    "print(\"\\nAccuracy Score:\")\n",
    "print(accuracy_score(y_test, y_pred))"
   ]
  },
  {
   "cell_type": "code",
   "execution_count": 35,
   "id": "dccaf5ff",
   "metadata": {
    "id": "dccaf5ff",
    "outputId": "c7ca66f8-f037-4218-a1d6-af1708017b5a"
   },
   "outputs": [
    {
     "name": "stdout",
     "output_type": "stream",
     "text": [
      "Temps d'entraînement du modèle : 28.86 secondes\n",
      "Confusion Matrix:\n",
      "[[234242  34413  65561]\n",
      " [   962   8304   2589]\n",
      " [ 19301  30289  40134]]\n",
      "\n",
      "Classification Report:\n",
      "              precision    recall  f1-score   support\n",
      "\n",
      "           1       0.92      0.70      0.80    334216\n",
      "           2       0.11      0.70      0.20     11855\n",
      "           3       0.37      0.45      0.41     89724\n",
      "\n",
      "    accuracy                           0.65    435795\n",
      "   macro avg       0.47      0.62      0.47    435795\n",
      "weighted avg       0.79      0.65      0.70    435795\n",
      "\n",
      "\n",
      "Accuracy Score:\n",
      "0.6486536100689544\n"
     ]
    }
   ],
   "source": [
    "# entrainement d un random forest\n",
    "\n",
    "model_rf_clf = RandomForestClassifier(random_state=42)\n",
    "\n",
    "start_time = time.time()\n",
    "model_rf_clf.fit(X_train_resampled, y_train_resampled)\n",
    "end_time = time.time()\n",
    "\n",
    "training_time = end_time - start_time\n",
    "print(f\"Temps d'entraînement du modèle : {training_time:.2f} secondes\")\n",
    "\n",
    "y_pred = model_rf_clf.predict(X_test)\n",
    "\n",
    "print(\"Confusion Matrix:\")\n",
    "print(confusion_matrix(y_test, y_pred))\n",
    "\n",
    "print(\"\\nClassification Report:\")\n",
    "print(classification_report(y_test, y_pred))\n",
    "\n",
    "print(\"\\nAccuracy Score:\")\n",
    "print(accuracy_score(y_test, y_pred))"
   ]
  },
  {
   "cell_type": "code",
   "execution_count": 36,
   "id": "87015d5b",
   "metadata": {
    "id": "87015d5b"
   },
   "outputs": [],
   "source": [
    "# nous souhaitons un modele predisant mieux les gravites eleves,\n",
    "# on sauvegarde donc le modele avec la meilleure\n",
    "import joblib\n",
    "with open('model_rf_clf.pkl', 'wb') as file:\n",
    "    joblib.dump(model_rf_clf, file)"
   ]
  },
  {
   "cell_type": "code",
   "execution_count": null,
   "id": "50efc55d-af21-4676-b371-98c2f02077e0",
   "metadata": {},
   "outputs": [],
   "source": []
  }
 ],
 "metadata": {
  "colab": {
   "provenance": []
  },
  "kernelspec": {
   "display_name": "Python 3 (ipykernel)",
   "language": "python",
   "name": "python3"
  },
  "language_info": {
   "codemirror_mode": {
    "name": "ipython",
    "version": 3
   },
   "file_extension": ".py",
   "mimetype": "text/x-python",
   "name": "python",
   "nbconvert_exporter": "python",
   "pygments_lexer": "ipython3",
   "version": "3.10.13"
  }
 },
 "nbformat": 4,
 "nbformat_minor": 5
}

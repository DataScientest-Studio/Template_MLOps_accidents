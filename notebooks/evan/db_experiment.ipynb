{
 "cells": [
  {
   "cell_type": "code",
   "execution_count": 17,
   "metadata": {},
   "outputs": [
    {
     "name": "stdout",
     "output_type": "stream",
     "text": [
      "Requirement already satisfied: sqlalchemy in ./.venv/lib/python3.8/site-packages (2.0.30)\n",
      "Requirement already satisfied: typing-extensions>=4.6.0 in ./.venv/lib/python3.8/site-packages (from sqlalchemy) (4.12.2)\n",
      "Requirement already satisfied: greenlet!=0.4.17 in ./.venv/lib/python3.8/site-packages (from sqlalchemy) (3.0.3)\n",
      "Requirement already satisfied: psycopg2-binary in ./.venv/lib/python3.8/site-packages (2.9.9)\n",
      "Collecting python-dotenv\n",
      "  Using cached python_dotenv-1.0.1-py3-none-any.whl.metadata (23 kB)\n",
      "Using cached python_dotenv-1.0.1-py3-none-any.whl (19 kB)\n",
      "Installing collected packages: python-dotenv\n",
      "Successfully installed python-dotenv-1.0.1\n"
     ]
    }
   ],
   "source": [
    "# !pip install sqlalchemy\n",
    "# !pip install psycopg2-binary\n",
    "# !pip install python-dotenv"
   ]
  },
  {
   "cell_type": "code",
   "execution_count": 1,
   "metadata": {},
   "outputs": [],
   "source": [
    "import os\n",
    "\n",
    "from sqlalchemy import Table, Column, Integer, String, ForeignKey, MetaData, create_engine, text, inspect\n",
    "from IPython.display import Markdown, display\n",
    "from dotenv import load_dotenv\n"
   ]
  },
  {
   "cell_type": "code",
   "execution_count": 2,
   "metadata": {},
   "outputs": [],
   "source": [
    "load_dotenv()  # take environment variables from .env.\n",
    "host=\"localhost\"\n",
    "database=os.getenv(\"POSTGRES_DB\")\n",
    "user=os.getenv(\"POSTGRES_USER\")\n",
    "password=os.getenv(\"POSTGRES_PASSWORD\")\n",
    "port=os.getenv(\"POSTGRES_PORT\")\n"
   ]
  },
  {
   "cell_type": "code",
   "execution_count": 4,
   "metadata": {},
   "outputs": [],
   "source": [
    "engine = create_engine('postgresql+psycopg2://{user}:{password}@{hostname}:{port}/{database_name}'.format(hostname=host, user=user, password=password, database_name=database, port=5432), echo=True)"
   ]
  },
  {
   "cell_type": "code",
   "execution_count": 5,
   "metadata": {},
   "outputs": [
    {
     "name": "stdout",
     "output_type": "stream",
     "text": [
      "2024-06-13 14:53:20,799 INFO sqlalchemy.engine.Engine select pg_catalog.version()\n",
      "2024-06-13 14:53:20,800 INFO sqlalchemy.engine.Engine [raw sql] {}\n",
      "2024-06-13 14:53:20,803 INFO sqlalchemy.engine.Engine select current_schema()\n",
      "2024-06-13 14:53:20,804 INFO sqlalchemy.engine.Engine [raw sql] {}\n",
      "2024-06-13 14:53:20,806 INFO sqlalchemy.engine.Engine show standard_conforming_strings\n",
      "2024-06-13 14:53:20,806 INFO sqlalchemy.engine.Engine [raw sql] {}\n",
      "2024-06-13 14:53:20,812 INFO sqlalchemy.engine.Engine BEGIN (implicit)\n",
      "2024-06-13 14:53:20,813 INFO sqlalchemy.engine.Engine SELECT pg_catalog.pg_class.relname \n",
      "FROM pg_catalog.pg_class JOIN pg_catalog.pg_namespace ON pg_catalog.pg_namespace.oid = pg_catalog.pg_class.relnamespace \n",
      "WHERE pg_catalog.pg_class.relkind = ANY (ARRAY[%(param_1)s, %(param_2)s]) AND pg_catalog.pg_class.relpersistence != %(relpersistence_1)s AND pg_catalog.pg_table_is_visible(pg_catalog.pg_class.oid) AND pg_catalog.pg_namespace.nspname != %(nspname_1)s\n",
      "2024-06-13 14:53:20,814 INFO sqlalchemy.engine.Engine [generated in 0.00162s] {'param_1': 'r', 'param_2': 'p', 'relpersistence_1': 't', 'nspname_1': 'pg_catalog'}\n",
      "2024-06-13 14:53:20,824 INFO sqlalchemy.engine.Engine ROLLBACK\n"
     ]
    },
    {
     "data": {
      "text/plain": [
       "[]"
      ]
     },
     "execution_count": 5,
     "metadata": {},
     "output_type": "execute_result"
    }
   ],
   "source": [
    "inspector = inspect(engine)\n",
    "inspector.get_table_names()\n"
   ]
  }
 ],
 "metadata": {
  "kernelspec": {
   "display_name": ".venv",
   "language": "python",
   "name": "python3"
  },
  "language_info": {
   "codemirror_mode": {
    "name": "ipython",
    "version": 3
   },
   "file_extension": ".py",
   "mimetype": "text/x-python",
   "name": "python",
   "nbconvert_exporter": "python",
   "pygments_lexer": "ipython3",
   "version": "3.8.19"
  }
 },
 "nbformat": 4,
 "nbformat_minor": 2
}

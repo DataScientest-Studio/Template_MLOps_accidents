{
 "cells": [
  {
   "cell_type": "code",
   "execution_count": 1,
   "metadata": {},
   "outputs": [],
   "source": [
    "import os\n",
    "\n",
    "from sqlalchemy import Table, Column, Integer, String, ForeignKey, MetaData, create_engine, text, inspect\n",
    "from IPython.display import Markdown, display\n",
    "from dotenv import load_dotenv\n",
    "import pandas as pd\n",
    "import tqdm\n",
    "import numpy as np"
   ]
  },
  {
   "cell_type": "code",
   "execution_count": 2,
   "metadata": {},
   "outputs": [],
   "source": [
    "load_dotenv()  # take environment variables from .env.\n",
    "host=\"localhost\"\n",
    "database=os.getenv(\"POSTGRES_DB\")\n",
    "user=os.getenv(\"POSTGRES_USER\")\n",
    "password=os.getenv(\"POSTGRES_PASSWORD\")\n",
    "port=os.getenv(\"POSTGRES_PORT\")\n",
    "\n",
    "db_url = 'postgresql+psycopg2://{user}:{password}@{hostname}:{port}/{database_name}'.format(hostname=host, user=user, password=password, database_name=database, port=5432)"
   ]
  },
  {
   "cell_type": "code",
   "execution_count": 3,
   "metadata": {},
   "outputs": [],
   "source": [
    "from pathlib import Path\n",
    "\n",
    "path_raw_data_dir = Path(\"../../Volumes/data/raw\")\n",
    "\n",
    "files = list(path_raw_data_dir.glob(\"*.csv\"))"
   ]
  },
  {
   "cell_type": "code",
   "execution_count": 4,
   "metadata": {},
   "outputs": [],
   "source": [
    "# Check all expected 4 files are there\n",
    "expected_files = {\"caracteristiques\", \"lieux\", \"usagers\", \"vehicules\"}\n",
    "for exp_file in expected_files:\n",
    "    if any(exp_file in f.name for f in files):\n",
    "        continue\n",
    "    print(f\"Error: could not find file '{exp_file}' in files.\")"
   ]
  },
  {
   "cell_type": "code",
   "execution_count": 5,
   "metadata": {},
   "outputs": [
    {
     "data": {
      "text/plain": [
       "'2021'"
      ]
     },
     "execution_count": 5,
     "metadata": {},
     "output_type": "execute_result"
    }
   ],
   "source": [
    "# check year is the same\n",
    "fs = [f.name.split(\".csv\")[0] for f in files]\n",
    "years = {f.split(\"-\")[-1] for f in fs}\n",
    "if len(years) > 1:\n",
    "    print(\"Error: More than 1 year found in the filenames: {years}\")\n",
    "year = years.pop()\n",
    "year"
   ]
  },
  {
   "cell_type": "code",
   "execution_count": 6,
   "metadata": {},
   "outputs": [
    {
     "name": "stdout",
     "output_type": "stream",
     "text": [
      "../../Volumes/data/raw/caracteristiques-2021.csv ../../Volumes/data/raw/lieux-2021.csv ../../Volumes/data/raw/usagers-2021.csv ../../Volumes/data/raw/vehicules-2021.csv\n"
     ]
    }
   ],
   "source": [
    "caracteristiques_file = None\n",
    "lieux_file = None\n",
    "usagers_file = None\n",
    "vehicules_file = None\n",
    "\n",
    "for file in files:\n",
    "    if \"caracteristiques\" in file.name:\n",
    "        caracteristiques_file = file\n",
    "    if \"lieux\" in file.name:\n",
    "        lieux_file = file\n",
    "    if \"usagers\" in file.name:\n",
    "        usagers_file = file\n",
    "    if \"vehicules\" in file.name:\n",
    "        vehicules_file = file\n",
    "\n",
    "print(caracteristiques_file, lieux_file, usagers_file, vehicules_file)"
   ]
  },
  {
   "cell_type": "code",
   "execution_count": 27,
   "metadata": {},
   "outputs": [],
   "source": [
    "YEAR = year\n",
    "\n",
    "#--Importing dataset\n",
    "df_users = pd.read_csv(usagers_file, sep=\";\").replace({np.NaN: None})\n",
    "df_caract = pd.read_csv(caracteristiques_file, sep=\";\", header=0, low_memory=False).replace({np.NaN: None})\n",
    "df_places = pd.read_csv(lieux_file, sep = \";\", encoding='utf-8')\n",
    "df_veh = pd.read_csv(vehicules_file, sep=\";\")"
   ]
  },
  {
   "cell_type": "code",
   "execution_count": 28,
   "metadata": {},
   "outputs": [],
   "source": [
    "def convert_object_cols_to_str(df):\n",
    "    stringcols = df.select_dtypes(include='object').columns\n",
    "    df[stringcols] = df[stringcols].fillna('').astype(str)\n",
    "    return df"
   ]
  },
  {
   "cell_type": "code",
   "execution_count": 29,
   "metadata": {},
   "outputs": [],
   "source": [
    "df_places = convert_object_cols_to_str(df_places)"
   ]
  },
  {
   "cell_type": "code",
   "execution_count": 8,
   "metadata": {},
   "outputs": [
    {
     "data": {
      "text/html": [
       "<div>\n",
       "<style scoped>\n",
       "    .dataframe tbody tr th:only-of-type {\n",
       "        vertical-align: middle;\n",
       "    }\n",
       "\n",
       "    .dataframe tbody tr th {\n",
       "        vertical-align: top;\n",
       "    }\n",
       "\n",
       "    .dataframe thead th {\n",
       "        text-align: right;\n",
       "    }\n",
       "</style>\n",
       "<table border=\"1\" class=\"dataframe\">\n",
       "  <thead>\n",
       "    <tr style=\"text-align: right;\">\n",
       "      <th></th>\n",
       "      <th>Num_Acc</th>\n",
       "      <th>id_vehicule</th>\n",
       "      <th>num_veh</th>\n",
       "      <th>place</th>\n",
       "      <th>catu</th>\n",
       "      <th>grav</th>\n",
       "      <th>sexe</th>\n",
       "      <th>an_nais</th>\n",
       "      <th>trajet</th>\n",
       "      <th>secu1</th>\n",
       "      <th>secu2</th>\n",
       "      <th>secu3</th>\n",
       "      <th>locp</th>\n",
       "      <th>actp</th>\n",
       "      <th>etatp</th>\n",
       "    </tr>\n",
       "  </thead>\n",
       "  <tbody>\n",
       "    <tr>\n",
       "      <th>0</th>\n",
       "      <td>202100000001</td>\n",
       "      <td>201Â 764</td>\n",
       "      <td>B01</td>\n",
       "      <td>1</td>\n",
       "      <td>1</td>\n",
       "      <td>3</td>\n",
       "      <td>1</td>\n",
       "      <td>2000.0</td>\n",
       "      <td>1</td>\n",
       "      <td>0</td>\n",
       "      <td>9</td>\n",
       "      <td>-1</td>\n",
       "      <td>0</td>\n",
       "      <td>0</td>\n",
       "      <td>-1</td>\n",
       "    </tr>\n",
       "    <tr>\n",
       "      <th>1</th>\n",
       "      <td>202100000001</td>\n",
       "      <td>201Â 765</td>\n",
       "      <td>A01</td>\n",
       "      <td>1</td>\n",
       "      <td>1</td>\n",
       "      <td>1</td>\n",
       "      <td>1</td>\n",
       "      <td>1978.0</td>\n",
       "      <td>1</td>\n",
       "      <td>1</td>\n",
       "      <td>-1</td>\n",
       "      <td>-1</td>\n",
       "      <td>0</td>\n",
       "      <td>0</td>\n",
       "      <td>-1</td>\n",
       "    </tr>\n",
       "    <tr>\n",
       "      <th>2</th>\n",
       "      <td>202100000002</td>\n",
       "      <td>201Â 762</td>\n",
       "      <td>A01</td>\n",
       "      <td>1</td>\n",
       "      <td>1</td>\n",
       "      <td>4</td>\n",
       "      <td>1</td>\n",
       "      <td>1983.0</td>\n",
       "      <td>0</td>\n",
       "      <td>1</td>\n",
       "      <td>-1</td>\n",
       "      <td>-1</td>\n",
       "      <td>0</td>\n",
       "      <td>0</td>\n",
       "      <td>-1</td>\n",
       "    </tr>\n",
       "    <tr>\n",
       "      <th>3</th>\n",
       "      <td>202100000002</td>\n",
       "      <td>201Â 763</td>\n",
       "      <td>B01</td>\n",
       "      <td>1</td>\n",
       "      <td>1</td>\n",
       "      <td>3</td>\n",
       "      <td>1</td>\n",
       "      <td>1993.0</td>\n",
       "      <td>0</td>\n",
       "      <td>1</td>\n",
       "      <td>-1</td>\n",
       "      <td>-1</td>\n",
       "      <td>0</td>\n",
       "      <td>0</td>\n",
       "      <td>-1</td>\n",
       "    </tr>\n",
       "    <tr>\n",
       "      <th>4</th>\n",
       "      <td>202100000003</td>\n",
       "      <td>201Â 761</td>\n",
       "      <td>A01</td>\n",
       "      <td>1</td>\n",
       "      <td>1</td>\n",
       "      <td>1</td>\n",
       "      <td>1</td>\n",
       "      <td>1995.0</td>\n",
       "      <td>1</td>\n",
       "      <td>1</td>\n",
       "      <td>0</td>\n",
       "      <td>-1</td>\n",
       "      <td>0</td>\n",
       "      <td>0</td>\n",
       "      <td>-1</td>\n",
       "    </tr>\n",
       "  </tbody>\n",
       "</table>\n",
       "</div>"
      ],
      "text/plain": [
       "        Num_Acc id_vehicule num_veh  place  catu  grav  sexe an_nais  trajet  \\\n",
       "0  202100000001    201Â 764     B01      1     1     3     1  2000.0       1   \n",
       "1  202100000001    201Â 765     A01      1     1     1     1  1978.0       1   \n",
       "2  202100000002    201Â 762     A01      1     1     4     1  1983.0       0   \n",
       "3  202100000002    201Â 763     B01      1     1     3     1  1993.0       0   \n",
       "4  202100000003    201Â 761     A01      1     1     1     1  1995.0       1   \n",
       "\n",
       "   secu1  secu2  secu3  locp actp  etatp  \n",
       "0      0      9     -1     0    0     -1  \n",
       "1      1     -1     -1     0    0     -1  \n",
       "2      1     -1     -1     0    0     -1  \n",
       "3      1     -1     -1     0    0     -1  \n",
       "4      1      0     -1     0    0     -1  "
      ]
     },
     "execution_count": 8,
     "metadata": {},
     "output_type": "execute_result"
    }
   ],
   "source": [
    "df_users.head()"
   ]
  },
  {
   "cell_type": "code",
   "execution_count": 9,
   "metadata": {},
   "outputs": [],
   "source": [
    "from sqlalchemy import Table, Column, Integer, String, MetaData, create_engine, inspect\n",
    "\n",
    "engine = create_engine(db_url, echo=False)\n",
    "inspector = inspect(engine)"
   ]
  },
  {
   "cell_type": "code",
   "execution_count": 10,
   "metadata": {},
   "outputs": [],
   "source": [
    "\n",
    "from src.data.db.models_sqlalchemy import Base, Caracteristiques, Lieux"
   ]
  },
  {
   "cell_type": "code",
   "execution_count": 11,
   "metadata": {},
   "outputs": [],
   "source": [
    "# Create table based on the ORM model\n",
    "Base.metadata.create_all(engine)"
   ]
  },
  {
   "cell_type": "code",
   "execution_count": null,
   "metadata": {},
   "outputs": [],
   "source": [
    "data = (Lieux(**{**row.to_dict(), **{\"year\":YEAR}}) for i, row in df_places.iterrows())\n",
    "next(data)"
   ]
  },
  {
   "cell_type": "code",
   "execution_count": 12,
   "metadata": {},
   "outputs": [],
   "source": [
    "from sqlalchemy.orm import Session\n",
    "\n",
    "data = (Caracteristiques(**{**row.to_dict(), **{\"year\":YEAR}}) for i, row in df_caract.iterrows())\n",
    "with Session(engine) as session:\n",
    "    session.add_all(data)\n",
    "    session.commit()"
   ]
  },
  {
   "cell_type": "code",
   "execution_count": 18,
   "metadata": {},
   "outputs": [],
   "source": [
    "df_places[\"voie\"] = df_places[\"voie\"].astype(str)"
   ]
  },
  {
   "cell_type": "code",
   "execution_count": 21,
   "metadata": {},
   "outputs": [
    {
     "name": "stdout",
     "output_type": "stream",
     "text": [
      "<class 'pandas.core.frame.DataFrame'>\n",
      "RangeIndex: 56518 entries, 0 to 56517\n",
      "Data columns (total 18 columns):\n",
      " #   Column   Non-Null Count  Dtype \n",
      "---  ------   --------------  ----- \n",
      " 0   Num_Acc  56518 non-null  int64 \n",
      " 1   catr     56518 non-null  int64 \n",
      " 2   voie     56518 non-null  object\n",
      " 3   v1       56518 non-null  int64 \n",
      " 4   v2       4990 non-null   object\n",
      " 5   circ     56518 non-null  int64 \n",
      " 6   nbv      56518 non-null  int64 \n",
      " 7   vosp     56518 non-null  int64 \n",
      " 8   prof     56518 non-null  int64 \n",
      " 9   pr       56518 non-null  object\n",
      " 10  pr1      56518 non-null  object\n",
      " 11  plan     56518 non-null  int64 \n",
      " 12  lartpc   108 non-null    object\n",
      " 13  larrout  56518 non-null  object\n",
      " 14  surf     56518 non-null  int64 \n",
      " 15  infra    56518 non-null  int64 \n",
      " 16  situ     56518 non-null  int64 \n",
      " 17  vma      56518 non-null  int64 \n",
      "dtypes: int64(12), object(6)\n",
      "memory usage: 7.8+ MB\n"
     ]
    }
   ],
   "source": [
    "df_places.info()"
   ]
  },
  {
   "cell_type": "code",
   "execution_count": 24,
   "metadata": {},
   "outputs": [],
   "source": [
    "stringcols = df_places.select_dtypes(include='object').columns\n",
    "stringcols\n",
    "df_places[stringcols] = df_places[stringcols].fillna('').astype(str)"
   ]
  },
  {
   "cell_type": "code",
   "execution_count": 25,
   "metadata": {},
   "outputs": [],
   "source": [
    "data = (Lieux(**{**row.to_dict(), **{\"year\":YEAR}}) for i, row in df_places.iterrows())\n",
    "with Session(engine) as session:\n",
    "    session.add_all(data)\n",
    "    session.commit()"
   ]
  },
  {
   "cell_type": "code",
   "execution_count": null,
   "metadata": {},
   "outputs": [],
   "source": []
  },
  {
   "cell_type": "markdown",
   "metadata": {},
   "source": [
    "# SQLMODEL"
   ]
  },
  {
   "cell_type": "code",
   "execution_count": 30,
   "metadata": {},
   "outputs": [
    {
     "name": "stderr",
     "output_type": "stream",
     "text": [
      "/Users/evan/Documents/Courses/Datascientest/FinalProject/git/may24_bmlops_accidents/src/data/db/models.py:28: SAWarning: Can't validate argument 'foreign_key'; can't locate any SQLAlchemy dialect named 'foreign'\n",
      "  Num_Acc: int = Field(default=None, sa_column=Column(BigInteger(), foreign_key=\"Caracteristiques.Num_Acc\"))\n",
      "/Users/evan/Documents/Courses/Datascientest/FinalProject/git/may24_bmlops_accidents/src/data/db/models.py:50: SAWarning: Can't validate argument 'foreign_key'; can't locate any SQLAlchemy dialect named 'foreign'\n",
      "  Num_Acc: int = Field(default=None, sa_column=Column(BigInteger(), foreign_key=\"Caracteristiques.Num_Acc\"))\n",
      "/Users/evan/Documents/Courses/Datascientest/FinalProject/git/may24_bmlops_accidents/src/data/db/models.py:64: SAWarning: Can't validate argument 'foreign_key'; can't locate any SQLAlchemy dialect named 'foreign'\n",
      "  Num_Acc: int = Field(default=None, sa_column=Column(BigInteger(), foreign_key=\"Caracteristiques.Num_Acc\"))\n",
      "/Users/evan/Documents/Courses/Datascientest/FinalProject/git/may24_bmlops_accidents/src/data/db/models.py:66: SAWarning: Can't validate argument 'foreign_key'; can't locate any SQLAlchemy dialect named 'foreign'\n",
      "  id_vehicule: str = Field(default=None, sa_column=Column(String(), foreign_key=\"Vehicules.id_vehicule\"))\n"
     ]
    }
   ],
   "source": [
    "from src.data.db.models import Caracteristiques, Lieux, Vehicules, Users"
   ]
  },
  {
   "cell_type": "code",
   "execution_count": 31,
   "metadata": {},
   "outputs": [],
   "source": [
    "from sqlmodel import SQLModel\n",
    "\n",
    "SQLModel.metadata.create_all(engine)"
   ]
  },
  {
   "cell_type": "code",
   "execution_count": 32,
   "metadata": {},
   "outputs": [],
   "source": [
    "with Session(engine) as session:\n",
    "    for _, row in df_caract.iterrows():\n",
    "        carac = Caracteristiques(**{**row,**{\"year\": year}})\n",
    "        session.add(carac)\n",
    "    session.commit()"
   ]
  },
  {
   "cell_type": "code",
   "execution_count": 33,
   "metadata": {},
   "outputs": [],
   "source": [
    "with Session(engine) as session:\n",
    "    for _, row in df_places.iterrows():\n",
    "        carac = Lieux(**{**row,**{\"year\": year}})\n",
    "        session.add(carac)\n",
    "    session.commit()"
   ]
  },
  {
   "cell_type": "code",
   "execution_count": null,
   "metadata": {},
   "outputs": [],
   "source": [
    "# compare table data with dataframes\n",
    "from sqlmodel import select, Session\n",
    "\n",
    "engine = create_engine(db_url)\n",
    "\n",
    "with Session(engine) as session:\n",
    "    statement = select(Caracteristiques).where(Caracteristiques.year==YEAR)\n",
    "    caracteristiques_from_db = session.exec(statement)\n",
    "\n",
    "    df= pd.DataFrame([r.model_dump(exclude=\"year\") for r in caracteristiques_from_db.fetchall()])\n",
    "\n",
    "df.head()\n"
   ]
  },
  {
   "cell_type": "code",
   "execution_count": null,
   "metadata": {},
   "outputs": [],
   "source": [
    "from sqlalchemy import create_engine\n",
    "\n",
    "raw_sql_query = \"SELECT * FROM {table} WHERE year = {year}\"\n",
    "\n",
    "cnx = create_engine(db_url).connect()\n",
    "df_caract = pd.read_sql_query(raw_sql_query.format(table=Caracteristiques.__tablename__,year=YEAR), con=cnx)\n",
    "df_places= pd.read_sql_query(raw_sql_query.format(table=Lieux.__tablename__,year=YEAR), con=cnx)\n",
    "df_users= pd.read_sql_query(raw_sql_query.format(table=Users.__tablename__,year=YEAR), con=cnx)\n",
    "df_veh= pd.read_sql_query(raw_sql_query.format(table=Vehicules.__tablename__,year=YEAR), con=cnx)"
   ]
  },
  {
   "cell_type": "code",
   "execution_count": null,
   "metadata": {},
   "outputs": [],
   "source": [
    "from sqlmodel import select\n",
    "\n",
    "with Session(engine) as session:\n",
    "    statement = select(Caracteristiques).where(Caracteristiques.year==YEAR)\n",
    "    caracteristiques_from_db = session.exec(statement)\n",
    "    df_caract= pd.DataFrame([r.model_dump(exclude=\"year\") for r in caracteristiques_from_db.fetchall()])\n"
   ]
  },
  {
   "cell_type": "code",
   "execution_count": null,
   "metadata": {},
   "outputs": [],
   "source": [
    "from sqlmodel import select\n",
    "\n",
    "with Session(engine) as session:\n",
    "    statement = select(Users, Caracteristiques).where(Users.Num_Acc == Caracteristiques.Num_Acc).limit(10)\n",
    "    results = session.exec(statement)\n",
    "    for user, carac in results:\n",
    "        print(\"User:\", user)\n",
    "        print(\"Caracteristiques:\", carac)"
   ]
  }
 ],
 "metadata": {
  "kernelspec": {
   "display_name": ".venv",
   "language": "python",
   "name": "python3"
  },
  "language_info": {
   "codemirror_mode": {
    "name": "ipython",
    "version": 3
   },
   "file_extension": ".py",
   "mimetype": "text/x-python",
   "name": "python",
   "nbconvert_exporter": "python",
   "pygments_lexer": "ipython3",
   "version": "3.8.19"
  }
 },
 "nbformat": 4,
 "nbformat_minor": 2
}

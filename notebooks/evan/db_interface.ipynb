{
 "cells": [
  {
   "cell_type": "markdown",
   "metadata": {},
   "source": [
    "# Manipulating the DB using SqlAlchemy and ORMs"
   ]
  },
  {
   "cell_type": "code",
   "execution_count": 1,
   "metadata": {},
   "outputs": [],
   "source": [
    "# Fetch configuration from the .env file\n",
    "\n",
    "import os\n",
    "from dotenv import load_dotenv\n",
    "\n",
    "load_dotenv()  # take environment variables from .env\n",
    "host=\"localhost\" # if you are running this script locally but the DB runs on docker then use `localhost` as the hostname. Otherwise use `os.getenv(\"POSTGRES_HOST\")` if the script runs from a docker container started with docker-compose.\n",
    "database=os.getenv(\"POSTGRES_DB\")\n",
    "user=os.getenv(\"POSTGRES_USER\")\n",
    "password=os.getenv(\"POSTGRES_PASSWORD\")\n",
    "port=os.getenv(\"POSTGRES_PORT\")"
   ]
  },
  {
   "cell_type": "code",
   "execution_count": 2,
   "metadata": {},
   "outputs": [],
   "source": [
    "# Build the DB url\n",
    "\n",
    "db_url = 'postgresql+psycopg2://{user}:{password}@{hostname}:{port}/{database_name}'.format(hostname=host, user=user, password=password, database_name=database, port=5432)"
   ]
  },
  {
   "cell_type": "code",
   "execution_count": 3,
   "metadata": {},
   "outputs": [],
   "source": [
    "# Connect to DB using the DB url\n",
    "from sqlalchemy import Table, Column, Integer, String, MetaData, create_engine, inspect\n",
    "\n",
    "engine = create_engine(db_url, echo=False)\n",
    "inspector = inspect(engine)"
   ]
  },
  {
   "cell_type": "code",
   "execution_count": 4,
   "metadata": {},
   "outputs": [
    {
     "data": {
      "text/plain": [
       "['caracteristiques', 'lieux', 'vehicules', 'auth_users']"
      ]
     },
     "execution_count": 4,
     "metadata": {},
     "output_type": "execute_result"
    }
   ],
   "source": [
    "# Get all tables from DB\n",
    "inspector.get_table_names()"
   ]
  },
  {
   "cell_type": "markdown",
   "metadata": {},
   "source": [
    "From the [optional module on SQL](https://train.learn.datascientest.com/notebooks/559/1679)"
   ]
  },
  {
   "cell_type": "code",
   "execution_count": 5,
   "metadata": {},
   "outputs": [],
   "source": [
    "# Describe a DB table using sqlalchemy ORM\n",
    "\n",
    "from sqlalchemy.orm import DeclarativeBase\n",
    "from sqlalchemy.orm import Mapped\n",
    "from sqlalchemy.orm import mapped_column\n",
    "\n",
    "class Base(DeclarativeBase):\n",
    "    pass\n",
    "\n",
    "class User(Base):\n",
    "    __tablename__ = \"auth_users\"\n",
    "    id: Mapped[int] = mapped_column(primary_key=True)\n",
    "    name: Mapped[str]\n",
    "    password: Mapped[str]\n",
    "\n",
    "    def __repr__(self) -> str:\n",
    "        return f\"User(id={self.id!r}, name={self.name!r}, fullname={self.password!r})\""
   ]
  },
  {
   "cell_type": "code",
   "execution_count": 6,
   "metadata": {},
   "outputs": [],
   "source": [
    "# Create table based on the ORM model\n",
    "Base.metadata.create_all(engine)"
   ]
  },
  {
   "cell_type": "code",
   "execution_count": 7,
   "metadata": {},
   "outputs": [
    {
     "data": {
      "text/plain": [
       "['caracteristiques', 'lieux', 'vehicules', 'auth_users']"
      ]
     },
     "execution_count": 7,
     "metadata": {},
     "output_type": "execute_result"
    }
   ],
   "source": [
    "# Check that table created\n",
    "inspector.get_table_names()"
   ]
  },
  {
   "cell_type": "code",
   "execution_count": 8,
   "metadata": {},
   "outputs": [],
   "source": [
    "# Add data to the newly created table\n",
    "\n",
    "from sqlalchemy.orm import Session\n",
    "\n",
    "with Session(engine) as session:\n",
    "    user1 = User(\n",
    "        name=\"spongebob\",\n",
    "        password=\"Squarepants\",\n",
    "    )\n",
    "    user2 = User(\n",
    "        name=\"bibi\",\n",
    "        password=\"blocksberg\",\n",
    "    )\n",
    "\n",
    "    session.add_all([user1, user2])\n",
    "    session.commit()"
   ]
  },
  {
   "cell_type": "code",
   "execution_count": 9,
   "metadata": {},
   "outputs": [
    {
     "name": "stdout",
     "output_type": "stream",
     "text": [
      "User(id=1, name='spongebob', fullname='Squarepants')\n",
      "User(id=2, name='bibi', fullname='blocksberg')\n",
      "User(id=3, name='spongebob', fullname='Squarepants')\n",
      "User(id=4, name='bibi', fullname='blocksberg')\n",
      "User(id=5, name='spongebob', fullname='Squarepants')\n",
      "User(id=6, name='bibi', fullname='blocksberg')\n"
     ]
    }
   ],
   "source": [
    "# Fetch data from the DB table\n",
    "\n",
    "from sqlalchemy import select\n",
    "\n",
    "stmt = select(User)\n",
    "for user in session.scalars(stmt):\n",
    "    print(user)"
   ]
  },
  {
   "cell_type": "code",
   "execution_count": 10,
   "metadata": {},
   "outputs": [
    {
     "name": "stdout",
     "output_type": "stream",
     "text": [
      "blocksberg\n",
      "blocksberg\n",
      "blocksberg\n"
     ]
    }
   ],
   "source": [
    "# Fetch a particular user from the users table\n",
    "\n",
    "from sqlalchemy import select\n",
    "\n",
    "stmt = select(User).where(User.name == \"bibi\")\n",
    "for user in session.scalars(stmt):\n",
    "    print(user.password)"
   ]
  },
  {
   "cell_type": "code",
   "execution_count": 23,
   "metadata": {},
   "outputs": [],
   "source": [
    "# Delete table\n",
    "# https://docs.sqlalchemy.org/en/20/faq/metadata_schema.html#my-program-is-hanging-when-i-say-table-drop-metadata-drop-all\n",
    "\n",
    "User.__table__.drop(engine) # this may take ages"
   ]
  }
 ],
 "metadata": {
  "kernelspec": {
   "display_name": ".venv",
   "language": "python",
   "name": "python3"
  },
  "language_info": {
   "codemirror_mode": {
    "name": "ipython",
    "version": 3
   },
   "file_extension": ".py",
   "mimetype": "text/x-python",
   "name": "python",
   "nbconvert_exporter": "python",
   "pygments_lexer": "ipython3",
   "version": "3.8.19"
  }
 },
 "nbformat": 4,
 "nbformat_minor": 2
}

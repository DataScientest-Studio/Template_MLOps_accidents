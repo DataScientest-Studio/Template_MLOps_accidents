{
 "cells": [
  {
   "cell_type": "markdown",
   "id": "cf5908d4",
   "metadata": {
    "editable": true,
    "id": "cf5908d4",
    "slideshow": {
     "slide_type": ""
    },
    "tags": []
   },
   "source": [
    "# Mai24_CMLOPS_Accidents_Cdc_#2_Modeles"
   ]
  },
  {
   "cell_type": "code",
   "execution_count": 1,
   "id": "74ec6fb5",
   "metadata": {
    "id": "74ec6fb5"
   },
   "outputs": [],
   "source": [
    "# Import des bibliothèques nécessaires au projet\n",
    "import pandas as pd\n",
    "import numpy as np\n",
    "import warnings\n",
    "import matplotlib.pyplot as plt\n",
    "import seaborn as sns\n",
    "#import plotly.express as px\n",
    "#from plotly.offline import init_notebook_mode, iplot\n",
    "import time\n",
    "\n",
    "# Ignorer les avertissements\n",
    "warnings.filterwarnings(\"ignore\", category=pd.errors.DtypeWarning)\n",
    "\n",
    "from imblearn.over_sampling import SMOTE\n",
    "from sklearn.model_selection import train_test_split\n",
    "from imblearn.under_sampling import RandomUnderSampler\n",
    "from imblearn.metrics import classification_report_imbalanced\n",
    "from sklearn.metrics import classification_report, confusion_matrix, accuracy_score\n",
    "\n",
    "from sklearn.ensemble import RandomForestClassifier\n",
    "from sklearn.tree import DecisionTreeClassifier\n",
    "import pickle"
   ]
  },
  {
   "cell_type": "code",
   "execution_count": 2,
   "id": "d2e009b3",
   "metadata": {
    "id": "d2e009b3",
    "outputId": "981de4c5-6c0f-404d-f9a7-e40dc3c67aef"
   },
   "outputs": [],
   "source": [
    "#pip install imbalanced-learn"
   ]
  },
  {
   "cell_type": "code",
   "execution_count": 3,
   "id": "9e1c7ce1",
   "metadata": {
    "id": "9e1c7ce1"
   },
   "outputs": [],
   "source": [
    "df = pd.read_csv('../src/data/data_2005a2021_final.csv', index_col=0)"
   ]
  },
  {
   "cell_type": "code",
   "execution_count": 4,
   "id": "32760772-0361-4d93-9611-898619562f5b",
   "metadata": {},
   "outputs": [
    {
     "name": "stdout",
     "output_type": "stream",
     "text": [
      "<class 'pandas.core.frame.DataFrame'>\n",
      "Index: 49998 entries, 201200035939 to 201200036992\n",
      "Data columns (total 26 columns):\n",
      " #   Column   Non-Null Count  Dtype  \n",
      "---  ------   --------------  -----  \n",
      " 0   mois     49998 non-null  int64  \n",
      " 1   jour     49998 non-null  int64  \n",
      " 2   lum      49998 non-null  int64  \n",
      " 3   agg      49998 non-null  int64  \n",
      " 4   int      49998 non-null  int64  \n",
      " 5   col      49998 non-null  float64\n",
      " 6   com      49998 non-null  int64  \n",
      " 7   dep      49998 non-null  int64  \n",
      " 8   hr       49998 non-null  int64  \n",
      " 9   mn       49998 non-null  int64  \n",
      " 10  catv     49998 non-null  int64  \n",
      " 11  choc     49998 non-null  float64\n",
      " 12  manv     49998 non-null  float64\n",
      " 13  place    49998 non-null  int64  \n",
      " 14  catu     49998 non-null  int64  \n",
      " 15  grav     49998 non-null  int64  \n",
      " 16  trajet   49998 non-null  float64\n",
      " 17  an_nais  49998 non-null  int64  \n",
      " 18  catr     49998 non-null  int64  \n",
      " 19  circ     49998 non-null  float64\n",
      " 20  nbv      49998 non-null  int64  \n",
      " 21  prof     49998 non-null  float64\n",
      " 22  plan     49998 non-null  float64\n",
      " 23  lartpc   49998 non-null  int64  \n",
      " 24  larrout  49998 non-null  int64  \n",
      " 25  situ     49998 non-null  float64\n",
      "dtypes: float64(8), int64(18)\n",
      "memory usage: 10.3 MB\n"
     ]
    }
   ],
   "source": [
    "df.head()\n",
    "df.info()"
   ]
  },
  {
   "cell_type": "code",
   "execution_count": 7,
   "id": "d921bad1-6568-430b-9fbc-aa3edad27c88",
   "metadata": {},
   "outputs": [
    {
     "data": {
      "text/plain": [
       "grav\n",
       "1    38316\n",
       "3    10336\n",
       "2     1346\n",
       "Name: count, dtype: int64"
      ]
     },
     "execution_count": 7,
     "metadata": {},
     "output_type": "execute_result"
    }
   ],
   "source": [
    "df[\"grav\"].value_counts()"
   ]
  },
  {
   "cell_type": "markdown",
   "id": "1949451c",
   "metadata": {
    "id": "1949451c"
   },
   "source": [
    "## 1- Préparation du jeu de donnée - pré processing"
   ]
  },
  {
   "cell_type": "code",
   "execution_count": 11,
   "id": "3c11b197",
   "metadata": {
    "id": "3c11b197"
   },
   "outputs": [],
   "source": [
    "# on sépare les variables cibles et les caractéristiques\n",
    "X = df.drop(columns=['grav'])\n",
    "y = df['grav']"
   ]
  },
  {
   "cell_type": "code",
   "execution_count": 12,
   "id": "046bca47",
   "metadata": {
    "id": "046bca47"
   },
   "outputs": [],
   "source": [
    "# on divise les données en ensemble d'entraînement et de test\n",
    "X_train, X_test, y_train, y_test = train_test_split(X, y, test_size=0.2, random_state=42)"
   ]
  },
  {
   "cell_type": "code",
   "execution_count": 14,
   "id": "682fb5fe",
   "metadata": {
    "id": "682fb5fe"
   },
   "outputs": [
    {
     "data": {
      "text/plain": [
       "'\\nsmote = SMOTE(random_state=42)\\nX_train_resampled, y_train_resampled = smote.fit_resample(X_train, y_train)\\n'"
      ]
     },
     "execution_count": 14,
     "metadata": {},
     "output_type": "execute_result"
    }
   ],
   "source": [
    "# nous avons vu dans notre analyse de données que les classes 2 et 3 étaient sous représentées\n",
    "# afin de régler ce déséquilibre de classe, nous allons faire un SMOTE et l'appliquer à nos données\n",
    "\"\"\"\n",
    "smote = SMOTE(random_state=42)\n",
    "X_train_resampled, y_train_resampled = smote.fit_resample(X_train, y_train)\n",
    "\"\"\""
   ]
  },
  {
   "cell_type": "code",
   "execution_count": 15,
   "id": "7cffeea7-c04e-4b1b-ae39-d95763b441a1",
   "metadata": {},
   "outputs": [],
   "source": [
    "#print('Classes échantillon smote :', dict(pd.Series(y_train_resampled).value_counts()))\n",
    "#le nombre de l'échantillon a augmenté (environ 4M)\n",
    "#Classes échantillon smote : {1: 1335601, 3: 1335601, 2: 1335601}\n",
    "#il vaut mieux utiliserla méthode de RandomUnderSampler"
   ]
  },
  {
   "cell_type": "code",
   "execution_count": 16,
   "id": "fad82d10-87ca-483a-8ffb-85ac46e3c58f",
   "metadata": {},
   "outputs": [
    {
     "name": "stdout",
     "output_type": "stream",
     "text": [
      "Classes échantillon undersampled : {1: 1083, 2: 1083, 3: 1083}\n"
     ]
    }
   ],
   "source": [
    "# nous avons vu dans notre analyse de données que les classes 2 et 3 étaient sous représentées\n",
    "# afin de régler ce déséquilibre de classe, nous allons faire un SMOTE et l'appliquer à nos données\n",
    "\n",
    "ru =RandomUnderSampler()\n",
    "X_train_resampled, y_train_resampled = ru.fit_resample(X_train, y_train)\n",
    "print('Classes échantillon undersampled :', dict(pd.Series(y_train_resampled).value_counts()))"
   ]
  },
  {
   "cell_type": "markdown",
   "id": "8aecee3e",
   "metadata": {
    "id": "8aecee3e"
   },
   "source": [
    "## 2- Entrainement de plusieurs modèles"
   ]
  },
  {
   "cell_type": "code",
   "execution_count": 19,
   "id": "e1243f0f",
   "metadata": {
    "id": "e1243f0f",
    "outputId": "44a02a21-f731-4de9-c552-f60c98581a95"
   },
   "outputs": [
    {
     "name": "stdout",
     "output_type": "stream",
     "text": [
      "Temps d'entraînement du modèle : 0.05 secondes\n",
      "Confusion Matrix:\n",
      "[[4461 1177 2078]\n",
      " [  30  153   80]\n",
      " [ 514  633  874]]\n",
      "\n",
      "Classification Report:\n",
      "              precision    recall  f1-score   support\n",
      "\n",
      "           1       0.89      0.58      0.70      7716\n",
      "           2       0.08      0.58      0.14       263\n",
      "           3       0.29      0.43      0.35      2021\n",
      "\n",
      "    accuracy                           0.55     10000\n",
      "   macro avg       0.42      0.53      0.39     10000\n",
      "weighted avg       0.75      0.55      0.61     10000\n",
      "\n",
      "\n",
      "Accuracy Score:\n",
      "0.5488\n"
     ]
    }
   ],
   "source": [
    "# entrainement d un arbre de decision\n",
    "\n",
    "model_tree_clf = DecisionTreeClassifier(random_state=42, max_depth=10)\n",
    "\n",
    "start_time = time.time()\n",
    "model_tree_clf.fit(X_train_resampled, y_train_resampled)\n",
    "end_time = time.time()\n",
    "\n",
    "training_time = end_time - start_time\n",
    "print(f\"Temps d'entraînement du modèle : {training_time:.2f} secondes\")\n",
    "\n",
    "y_pred = model_tree_clf.predict(X_test)\n",
    "\n",
    "print(\"Confusion Matrix:\")\n",
    "print(confusion_matrix(y_test, y_pred))\n",
    "\n",
    "print(\"\\nClassification Report:\")\n",
    "print(classification_report(y_test, y_pred))\n",
    "\n",
    "print(\"\\nAccuracy Score:\")\n",
    "print(accuracy_score(y_test, y_pred))"
   ]
  },
  {
   "cell_type": "code",
   "execution_count": 20,
   "id": "dccaf5ff",
   "metadata": {
    "id": "dccaf5ff",
    "outputId": "c7ca66f8-f037-4218-a1d6-af1708017b5a"
   },
   "outputs": [
    {
     "name": "stdout",
     "output_type": "stream",
     "text": [
      "Temps d'entraînement du modèle : 0.64 secondes\n",
      "Confusion Matrix:\n",
      "[[5139 1047 1530]\n",
      " [  25  179   59]\n",
      " [ 551  705  765]]\n",
      "\n",
      "Classification Report:\n",
      "              precision    recall  f1-score   support\n",
      "\n",
      "           1       0.90      0.67      0.77      7716\n",
      "           2       0.09      0.68      0.16       263\n",
      "           3       0.32      0.38      0.35      2021\n",
      "\n",
      "    accuracy                           0.61     10000\n",
      "   macro avg       0.44      0.58      0.43     10000\n",
      "weighted avg       0.76      0.61      0.67     10000\n",
      "\n",
      "\n",
      "Accuracy Score:\n",
      "0.6083\n"
     ]
    }
   ],
   "source": [
    "# entrainement d un random forest\n",
    "\n",
    "model_rf_clf = RandomForestClassifier(random_state=42)\n",
    "\n",
    "start_time = time.time()\n",
    "model_rf_clf.fit(X_train_resampled, y_train_resampled)\n",
    "end_time = time.time()\n",
    "\n",
    "training_time = end_time - start_time\n",
    "print(f\"Temps d'entraînement du modèle : {training_time:.2f} secondes\")\n",
    "\n",
    "y_pred = model_rf_clf.predict(X_test)\n",
    "\n",
    "print(\"Confusion Matrix:\")\n",
    "print(confusion_matrix(y_test, y_pred))\n",
    "\n",
    "print(\"\\nClassification Report:\")\n",
    "print(classification_report(y_test, y_pred))\n",
    "\n",
    "print(\"\\nAccuracy Score:\")\n",
    "accuracy=accuracy_score(y_test, y_pred)\n",
    "print(accuracy)"
   ]
  },
  {
   "cell_type": "code",
   "execution_count": 22,
   "id": "d68814d2",
   "metadata": {},
   "outputs": [],
   "source": [
    "# on sauvegarde l accuracy en memoire pour qu elle puisse etre communiqué aux admin par notre API\n",
    "model_data = {\n",
    "    'model': model_rf_clf,\n",
    "    'accuracy': accuracy\n",
    "}\n",
    "\n",
    "# modifier seuil des tests unitaires pour déclencher le ré-entrainement"
   ]
  },
  {
   "cell_type": "code",
   "execution_count": 23,
   "id": "87015d5b",
   "metadata": {
    "id": "87015d5b"
   },
   "outputs": [],
   "source": [
    "# nous souhaitons un modele predisant mieux les gravites eleves,\n",
    "# on sauvegarde donc le modele avec la meilleure\n",
    "import joblib\n",
    "with open('../models/model_rf_clf.pkl', 'wb') as file:\n",
    "    joblib.dump(model_data, file)"
   ]
  }
 ],
 "metadata": {
  "colab": {
   "provenance": []
  },
  "kernelspec": {
   "display_name": "Python 3 (ipykernel)",
   "language": "python",
   "name": "python3"
  },
  "language_info": {
   "codemirror_mode": {
    "name": "ipython",
    "version": 3
   },
   "file_extension": ".py",
   "mimetype": "text/x-python",
   "name": "python",
   "nbconvert_exporter": "python",
   "pygments_lexer": "ipython3",
   "version": "3.10.13"
  }
 },
 "nbformat": 4,
 "nbformat_minor": 5
}

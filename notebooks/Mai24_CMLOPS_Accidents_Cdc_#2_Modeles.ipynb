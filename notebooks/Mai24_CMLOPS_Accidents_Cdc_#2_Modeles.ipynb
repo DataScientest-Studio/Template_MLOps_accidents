{
 "cells": [
  {
   "cell_type": "markdown",
   "id": "cf5908d4",
   "metadata": {
    "id": "cf5908d4"
   },
   "source": [
    "# Mai24_CMLOPS_Accidents_Cdc_#2_Modeles"
   ]
  },
  {
   "cell_type": "markdown",
   "id": "12783600",
   "metadata": {
    "id": "12783600"
   },
   "source": [
    "## 1- Analyse de corrélation de variables"
   ]
  },
  {
   "cell_type": "code",
   "execution_count": 2,
   "id": "74ec6fb5",
   "metadata": {
    "id": "74ec6fb5"
   },
   "outputs": [],
   "source": [
    "# Import des bibliothèques nécessaires au projet\n",
    "import pandas as pd\n",
    "import numpy as np\n",
    "import warnings\n",
    "import matplotlib.pyplot as plt\n",
    "import seaborn as sns\n",
    "#import plotly.express as px\n",
    "#from plotly.offline import init_notebook_mode, iplot\n",
    "import time\n",
    "\n",
    "# Ignorer les avertissements\n",
    "warnings.filterwarnings(\"ignore\", category=pd.errors.DtypeWarning)\n",
    "\n",
    "from imblearn.over_sampling import SMOTE\n",
    "from sklearn.model_selection import train_test_split\n",
    "from imblearn.under_sampling import RandomUnderSampler\n",
    "from imblearn.metrics import classification_report_imbalanced\n",
    "from sklearn.metrics import classification_report, confusion_matrix, accuracy_score\n",
    "\n",
    "from sklearn.ensemble import RandomForestClassifier\n",
    "from sklearn.tree import DecisionTreeClassifier\n",
    "import pickle"
   ]
  },
  {
   "cell_type": "code",
   "execution_count": 3,
   "id": "d2e009b3",
   "metadata": {
    "id": "d2e009b3",
    "outputId": "981de4c5-6c0f-404d-f9a7-e40dc3c67aef"
   },
   "outputs": [
    {
     "name": "stdout",
     "output_type": "stream",
     "text": [
      "Requirement already satisfied: imbalanced-learn in c:\\users\\mamerle\\appdata\\local\\programs\\python\\python39\\lib\\site-packages (0.11.0)\n",
      "Requirement already satisfied: numpy>=1.17.3 in c:\\users\\mamerle\\appdata\\local\\programs\\python\\python39\\lib\\site-packages (from imbalanced-learn) (1.26.3)\n",
      "Requirement already satisfied: scipy>=1.5.0 in c:\\users\\mamerle\\appdata\\local\\programs\\python\\python39\\lib\\site-packages (from imbalanced-learn) (1.11.4)\n",
      "Requirement already satisfied: scikit-learn>=1.0.2 in c:\\users\\mamerle\\appdata\\local\\programs\\python\\python39\\lib\\site-packages (from imbalanced-learn) (1.3.2)\n",
      "Requirement already satisfied: joblib>=1.1.1 in c:\\users\\mamerle\\appdata\\local\\programs\\python\\python39\\lib\\site-packages (from imbalanced-learn) (1.3.2)\n",
      "Requirement already satisfied: threadpoolctl>=2.0.0 in c:\\users\\mamerle\\appdata\\local\\programs\\python\\python39\\lib\\site-packages (from imbalanced-learn) (3.2.0)\n",
      "Could not fetch URL https://pypi.org/simple/pip/: There was a problem confirming the ssl certificate: HTTPSConnectionPool(host='pypi.org', port=443): Max retries exceeded with url: /simple/pip/ (Caused by SSLError(SSLCertVerificationError(1, '[SSL: CERTIFICATE_VERIFY_FAILED] certificate verify failed: self signed certificate in certificate chain (_ssl.c:1129)'))) - skipping\n",
      "Note: you may need to restart the kernel to use updated packages.\n"
     ]
    }
   ],
   "source": [
    "pip install imbalanced-learn"
   ]
  },
  {
   "cell_type": "code",
   "execution_count": 16,
   "id": "9e1c7ce1",
   "metadata": {
    "id": "9e1c7ce1"
   },
   "outputs": [],
   "source": [
    "df = pd.read_csv('../src/data/data 2005a2021 final.csv', index_col=0)"
   ]
  },
  {
   "cell_type": "code",
   "execution_count": 17,
   "id": "49b0af3c",
   "metadata": {
    "id": "49b0af3c"
   },
   "outputs": [],
   "source": [
    "# colonne non catégorielle\n",
    "colonne_Non_cat=['num_acc', 'an_nais', \"num_veh\", 'annee', 'mois', 'jour', 'com', 'dep', 'hr', 'mn','nbv','lartpc','larrout']\n",
    "\n",
    "# colonne catégorielle\n",
    "cat_columns = [col for col in df.columns if col not in colonne_Non_cat]"
   ]
  },
  {
   "cell_type": "code",
   "execution_count": 5,
   "id": "7769b87d",
   "metadata": {},
   "outputs": [
    {
     "name": "stdout",
     "output_type": "stream",
     "text": [
      "Chi2 avec 'grav':\n",
      "{'lum': 42586.40576514557, 'agg': 89242.82155143883, 'int': 27733.507655346883, 'atm': 5963.580587186945, 'col': 93221.16170445719, 'catv': 102733.36800586228, 'choc': 49738.91297649023, 'manv': 101043.66215875177, 'place': 38465.963033061285, 'catu': 38293.87715526149, 'grav': 4357946.0, 'sexe': 2682.426360463483, 'trajet': 34449.21679522872, 'catr': 102264.44538582121, 'circ': 36994.1938459717, 'prof': 15249.309644481145, 'plan': 36547.93186768001, 'surf': 3357.507010418821, 'situ': 47764.423170739945}\n"
     ]
    }
   ],
   "source": [
    "import scipy.stats as stats\n",
    "\n",
    "# calcul des corrélations pour les variables catégorielles uniquement\n",
    "cat_corr = {}\n",
    "for col in cat_columns:\n",
    "    contingency_table = pd.crosstab(df['grav'], df[col])\n",
    "    chi2, p, dof, ex = stats.chi2_contingency(contingency_table)\n",
    "    cat_corr[col] = chi2\n",
    "\n",
    "print(\"Chi2 avec 'grav':\")\n",
    "print(cat_corr)"
   ]
  },
  {
   "cell_type": "code",
   "execution_count": 6,
   "id": "69807ff9",
   "metadata": {
    "id": "69807ff9",
    "outputId": "352d2cc7-4beb-4458-aeb4-274145cea69c"
   },
   "outputs": [
    {
     "data": {
      "image/png": "[encoded data removed]",
      "text/plain": [
       "<Figure size 640x480 with 1 Axes>"
      ]
     },
     "metadata": {},
     "output_type": "display_data"
    }
   ],
   "source": [
    "# bar plot pour les résultats du test du chi-carré\n",
    "cat_corr_series = pd.Series(cat_corr).sort_values(ascending=False)\n",
    "cat_corr_series.plot(kind='bar')\n",
    "plt.title(\"Chi2 des variables catégorielles avec 'grav'\")\n",
    "plt.ylabel('Chi2 Value')\n",
    "plt.show()"
   ]
  },
  {
   "cell_type": "code",
   "execution_count": 18,
   "id": "a72fbeea",
   "metadata": {
    "id": "a72fbeea"
   },
   "outputs": [],
   "source": [
    "# le nombre de colonnes étant conséquent, nous cherchons à supprimer celles non nécessaires\n",
    "# les variables atm, annee_y, annee_x, sexe et surf ne semblent pas corrélées avec grav - nous les supprimons donc\n",
    "colonnes_a_supprimer = ['atm', 'annee', 'sexe', 'surf', \"num_veh\"]\n",
    "df = df.drop(columns=colonnes_a_supprimer)"
   ]
  },
  {
   "cell_type": "code",
   "execution_count": 19,
   "id": "0a56ac5b",
   "metadata": {
    "id": "0a56ac5b",
    "outputId": "49c4668d-e58d-4f0f-a68a-1d3d94c7dd6e"
   },
   "outputs": [
    {
     "name": "stdout",
     "output_type": "stream",
     "text": [
      "<class 'pandas.core.frame.DataFrame'>\n",
      "Index: 49998 entries, 201200035939 to 201200036992\n",
      "Data columns (total 26 columns):\n",
      " #   Column   Non-Null Count  Dtype  \n",
      "---  ------   --------------  -----  \n",
      " 0   mois     49998 non-null  int64  \n",
      " 1   jour     49998 non-null  int64  \n",
      " 2   lum      49998 non-null  int64  \n",
      " 3   agg      49998 non-null  int64  \n",
      " 4   int      49998 non-null  int64  \n",
      " 5   col      49998 non-null  float64\n",
      " 6   com      49998 non-null  int64  \n",
      " 7   dep      49998 non-null  int64  \n",
      " 8   hr       49998 non-null  int64  \n",
      " 9   mn       49998 non-null  int64  \n",
      " 10  catv     49998 non-null  int64  \n",
      " 11  choc     49998 non-null  float64\n",
      " 12  manv     49998 non-null  float64\n",
      " 13  place    49998 non-null  int64  \n",
      " 14  catu     49998 non-null  int64  \n",
      " 15  grav     49998 non-null  int64  \n",
      " 16  trajet   49998 non-null  float64\n",
      " 17  an_nais  49998 non-null  int64  \n",
      " 18  catr     49998 non-null  int64  \n",
      " 19  circ     49998 non-null  float64\n",
      " 20  nbv      49998 non-null  int64  \n",
      " 21  prof     49998 non-null  float64\n",
      " 22  plan     49998 non-null  float64\n",
      " 23  lartpc   49998 non-null  int64  \n",
      " 24  larrout  49998 non-null  int64  \n",
      " 25  situ     49998 non-null  float64\n",
      "dtypes: float64(8), int64(18)\n",
      "memory usage: 10.3 MB\n"
     ]
    }
   ],
   "source": [
    "df.info()"
   ]
  },
  {
   "cell_type": "code",
   "execution_count": 20,
   "id": "a8e4ad4f-eceb-49ab-ad5e-773e73ac80f1",
   "metadata": {},
   "outputs": [
    {
     "data": {
      "text/plain": [
       "49998"
      ]
     },
     "execution_count": 20,
     "metadata": {},
     "output_type": "execute_result"
    }
   ],
   "source": [
    "len(df)"
   ]
  },
  {
   "cell_type": "code",
   "execution_count": 21,
   "id": "d921bad1-6568-430b-9fbc-aa3edad27c88",
   "metadata": {},
   "outputs": [
    {
     "data": {
      "text/plain": [
       "grav\n",
       "1    38316\n",
       "3    10336\n",
       "2     1346\n",
       "Name: count, dtype: int64"
      ]
     },
     "execution_count": 21,
     "metadata": {},
     "output_type": "execute_result"
    }
   ],
   "source": [
    "df[\"grav\"].value_counts()"
   ]
  },
  {
   "cell_type": "markdown",
   "id": "1949451c",
   "metadata": {
    "id": "1949451c"
   },
   "source": [
    "## 2- Préparation du jeu de donnée - pré processing"
   ]
  },
  {
   "cell_type": "code",
   "execution_count": 22,
   "id": "3c11b197",
   "metadata": {
    "id": "3c11b197"
   },
   "outputs": [],
   "source": [
    "# on sépare les variables cibles et les caractéristiques\n",
    "X = df.drop(columns=['grav'])\n",
    "y = df['grav']"
   ]
  },
  {
   "cell_type": "code",
   "execution_count": 23,
   "id": "046bca47",
   "metadata": {
    "id": "046bca47"
   },
   "outputs": [],
   "source": [
    "# on divise les données en ensemble d'entraînement et de test\n",
    "X_train, X_test, y_train, y_test = train_test_split(X, y, test_size=0.2, random_state=42)"
   ]
  },
  {
   "cell_type": "code",
   "execution_count": 16,
   "id": "682fb5fe",
   "metadata": {
    "id": "682fb5fe"
   },
   "outputs": [],
   "source": [
    "# nous avons vu dans notre analyse de données que les classes 2 et 3 étaient sous représentées\n",
    "# afin de régler ce déséquilibre de classe, nous allons faire un SMOTE et l'appliquer à nos données\n",
    "\"\"\"\n",
    "smote = SMOTE(random_state=42)\n",
    "X_train_resampled, y_train_resampled = smote.fit_resample(X_train, y_train)\n",
    "\"\"\""
   ]
  },
  {
   "cell_type": "code",
   "execution_count": 17,
   "id": "7cffeea7-c04e-4b1b-ae39-d95763b441a1",
   "metadata": {},
   "outputs": [],
   "source": [
    "#print('Classes échantillon smote :', dict(pd.Series(y_train_resampled).value_counts()))\n",
    "#le nombre de l'échantillon a augmenté (environ 4M)\n",
    "#Classes échantillon smote : {1: 1335601, 3: 1335601, 2: 1335601}\n",
    "#il vaut mieux utiliserla méthode de RandomUnderSampler"
   ]
  },
  {
   "cell_type": "code",
   "execution_count": 24,
   "id": "fad82d10-87ca-483a-8ffb-85ac46e3c58f",
   "metadata": {},
   "outputs": [
    {
     "name": "stdout",
     "output_type": "stream",
     "text": [
      "Classes échantillon undersampled : {1: 1083, 2: 1083, 3: 1083}\n"
     ]
    }
   ],
   "source": [
    "# nous avons vu dans notre analyse de données que les classes 2 et 3 étaient sous représentées\n",
    "# afin de régler ce déséquilibre de classe, nous allons faire un SMOTE et l'appliquer à nos données\n",
    "\n",
    "ru =RandomUnderSampler()\n",
    "X_train_resampled, y_train_resampled = ru.fit_resample(X_train, y_train)\n",
    "print('Classes échantillon undersampled :', dict(pd.Series(y_train_resampled).value_counts()))"
   ]
  },
  {
   "cell_type": "markdown",
   "id": "8aecee3e",
   "metadata": {
    "id": "8aecee3e"
   },
   "source": [
    "## 3- Entrainement de plusieurs modèles"
   ]
  },
  {
   "cell_type": "code",
   "execution_count": 23,
   "id": "e1243f0f",
   "metadata": {
    "id": "e1243f0f",
    "outputId": "44a02a21-f731-4de9-c552-f60c98581a95"
   },
   "outputs": [
    {
     "name": "stdout",
     "output_type": "stream",
     "text": [
      "Temps d'entraînement du modèle : 1.13 secondes\n",
      "Confusion Matrix:\n",
      "[[228469  37135  68612]\n",
      " [  1428   7727   2700]\n",
      " [ 20429  30158  39137]]\n",
      "\n",
      "Classification Report:\n",
      "              precision    recall  f1-score   support\n",
      "\n",
      "           1       0.91      0.68      0.78    334216\n",
      "           2       0.10      0.65      0.18     11855\n",
      "           3       0.35      0.44      0.39     89724\n",
      "\n",
      "    accuracy                           0.63    435795\n",
      "   macro avg       0.46      0.59      0.45    435795\n",
      "weighted avg       0.78      0.63      0.68    435795\n",
      "\n",
      "\n",
      "Accuracy Score:\n",
      "0.6317947658876306\n"
     ]
    }
   ],
   "source": [
    "# entrainement d un arbre de decision\n",
    "\n",
    "model_tree_clf = DecisionTreeClassifier(random_state=42, max_depth=10)\n",
    "\n",
    "start_time = time.time()\n",
    "model_tree_clf.fit(X_train_resampled, y_train_resampled)\n",
    "end_time = time.time()\n",
    "\n",
    "training_time = end_time - start_time\n",
    "print(f\"Temps d'entraînement du modèle : {training_time:.2f} secondes\")\n",
    "\n",
    "y_pred = model_tree_clf.predict(X_test)\n",
    "\n",
    "print(\"Confusion Matrix:\")\n",
    "print(confusion_matrix(y_test, y_pred))\n",
    "\n",
    "print(\"\\nClassification Report:\")\n",
    "print(classification_report(y_test, y_pred))\n",
    "\n",
    "print(\"\\nAccuracy Score:\")\n",
    "print(accuracy_score(y_test, y_pred))"
   ]
  },
  {
   "cell_type": "code",
   "execution_count": 25,
   "id": "dccaf5ff",
   "metadata": {
    "id": "dccaf5ff",
    "outputId": "c7ca66f8-f037-4218-a1d6-af1708017b5a"
   },
   "outputs": [
    {
     "name": "stdout",
     "output_type": "stream",
     "text": [
      "Temps d'entraînement du modèle : 1.08 secondes\n",
      "Confusion Matrix:\n",
      "[[5132 1085 1499]\n",
      " [  29  178   56]\n",
      " [ 548  752  721]]\n",
      "\n",
      "Classification Report:\n",
      "              precision    recall  f1-score   support\n",
      "\n",
      "           1       0.90      0.67      0.76      7716\n",
      "           2       0.09      0.68      0.16       263\n",
      "           3       0.32      0.36      0.34      2021\n",
      "\n",
      "    accuracy                           0.60     10000\n",
      "   macro avg       0.43      0.57      0.42     10000\n",
      "weighted avg       0.76      0.60      0.66     10000\n",
      "\n",
      "\n",
      "Accuracy Score:\n",
      "0.6031\n"
     ]
    }
   ],
   "source": [
    "# entrainement d un random forest\n",
    "\n",
    "model_rf_clf = RandomForestClassifier(random_state=42)\n",
    "\n",
    "start_time = time.time()\n",
    "model_rf_clf.fit(X_train_resampled, y_train_resampled)\n",
    "end_time = time.time()\n",
    "\n",
    "training_time = end_time - start_time\n",
    "print(f\"Temps d'entraînement du modèle : {training_time:.2f} secondes\")\n",
    "\n",
    "y_pred = model_rf_clf.predict(X_test)\n",
    "\n",
    "print(\"Confusion Matrix:\")\n",
    "print(confusion_matrix(y_test, y_pred))\n",
    "\n",
    "print(\"\\nClassification Report:\")\n",
    "print(classification_report(y_test, y_pred))\n",
    "\n",
    "print(\"\\nAccuracy Score:\")\n",
    "accuracy=accuracy_score(y_test, y_pred)\n",
    "print(accuracy)"
   ]
  },
  {
   "cell_type": "code",
   "execution_count": 26,
   "id": "d68814d2",
   "metadata": {},
   "outputs": [],
   "source": [
    "# on sauvegarde l accuracy en memoire pour qu elle puisse etre communiqué aux admin par notre API\n",
    "model_data = {\n",
    "    'model': model_rf_clf,\n",
    "    'accuracy': accuracy\n",
    "}\n",
    "\n",
    "# modifier seuil des tests unitaires pour déclencher le ré-entrainement"
   ]
  },
  {
   "cell_type": "code",
   "execution_count": 27,
   "id": "87015d5b",
   "metadata": {
    "id": "87015d5b"
   },
   "outputs": [],
   "source": [
    "# nous souhaitons un modele predisant mieux les gravites eleves,\n",
    "# on sauvegarde donc le modele avec la meilleure\n",
    "import joblib\n",
    "with open('model_rf_clf.pkl', 'wb') as file:\n",
    "    joblib.dump(model_data, file)"
   ]
  }
 ],
 "metadata": {
  "colab": {
   "provenance": []
  },
  "kernelspec": {
   "display_name": "Python 3 (ipykernel)",
   "language": "python",
   "name": "python3"
  },
  "language_info": {
   "codemirror_mode": {
    "name": "ipython",
    "version": 3
   },
   "file_extension": ".py",
   "mimetype": "text/x-python",
   "name": "python",
   "nbconvert_exporter": "python",
   "pygments_lexer": "ipython3",
   "version": "3.9.11"
  }
 },
 "nbformat": 4,
 "nbformat_minor": 5
}

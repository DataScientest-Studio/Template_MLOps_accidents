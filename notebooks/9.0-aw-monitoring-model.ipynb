{
 "cells": [
  {
   "cell_type": "code",
   "execution_count": 1,
   "metadata": {},
   "outputs": [],
   "source": [
    "import pandas as pd\n",
    "import joblib\n",
    "from sklearn.metrics import f1_score\n",
    "import numpy as np"
   ]
  },
  {
   "cell_type": "code",
   "execution_count": 3,
   "metadata": {},
   "outputs": [],
   "source": [
    "X_test = pd.read_csv(\"../data/preprocessed/X_test.csv\")\n",
    "X_train = pd.read_csv(\"../data/preprocessed/X_train.csv\")\n",
    "y_test = pd.read_csv(\"../data/preprocessed/y_test.csv\")\n",
    "y_train = pd.read_csv(\"../data/preprocessed/y_train.csv\")"
   ]
  },
  {
   "cell_type": "code",
   "execution_count": 4,
   "metadata": {},
   "outputs": [
    {
     "name": "stdout",
     "output_type": "stream",
     "text": [
      "X_train shape: (38288, 28)\n",
      "X_test shape: (16410, 28)\n",
      "y_train shape: (38288, 1)\n",
      "y_test shape: (16410, 1)\n"
     ]
    }
   ],
   "source": [
    "print(\"X_train shape:\", X_train.shape)\n",
    "print(\"X_test shape:\", X_test.shape)\n",
    "print(\"y_train shape:\", y_train.shape)\n",
    "print(\"y_test shape:\", y_test.shape)"
   ]
  },
  {
   "cell_type": "markdown",
   "metadata": {},
   "source": [
    "## Premier essai"
   ]
  },
  {
   "cell_type": "code",
   "execution_count": 38,
   "metadata": {},
   "outputs": [],
   "source": [
    "# Trouver l'index médian\n",
    "median_index = len(X_test) // 2\n",
    "\n",
    "# Diviser le DataFrame en deux parties\n",
    "X_test_eval = X_test.iloc[:median_index]\n",
    "X_test_simul = X_test.iloc[median_index:]\n",
    "\n",
    "y_test_eval = y_test.iloc[:median_index]\n",
    "y_test_simul = y_test.iloc[median_index:]"
   ]
  },
  {
   "cell_type": "code",
   "execution_count": 39,
   "metadata": {},
   "outputs": [
    {
     "name": "stdout",
     "output_type": "stream",
     "text": [
      "f1-score: 0.7389780207707664\n"
     ]
    }
   ],
   "source": [
    "# Evaluation du modèle sur la partie X_test_eval:\n",
    "rdf = joblib.load(\"../models/trained_model.joblib\")\n",
    "\n",
    "# Prédiction générale de y\n",
    "y_pred = rdf.predict(X_test_eval)\n",
    "y_true = y_test_eval\n",
    "\n",
    "# Calcul du nouveau F1 score macro average\n",
    "f1_score_macro_average = f1_score(y_true=y_true, y_pred=y_pred, average=\"macro\")\n",
    "\n",
    "# Affichage du f1-score:\n",
    "print(\"f1-score:\",f1_score_macro_average )"
   ]
  },
  {
   "cell_type": "code",
   "execution_count": 18,
   "metadata": {},
   "outputs": [
    {
     "name": "stdout",
     "output_type": "stream",
     "text": [
      "8205\n",
      "8206\n",
      "8207\n",
      "8208\n",
      "8209\n"
     ]
    }
   ],
   "source": [
    "for i in X_test_simul.index[]:\n",
    "    print(i)"
   ]
  },
  {
   "cell_type": "code",
   "execution_count": 45,
   "metadata": {},
   "outputs": [
    {
     "data": {
      "text/html": [
       "<div>\n",
       "<style scoped>\n",
       "    .dataframe tbody tr th:only-of-type {\n",
       "        vertical-align: middle;\n",
       "    }\n",
       "\n",
       "    .dataframe tbody tr th {\n",
       "        vertical-align: top;\n",
       "    }\n",
       "\n",
       "    .dataframe thead th {\n",
       "        text-align: right;\n",
       "    }\n",
       "</style>\n",
       "<table border=\"1\" class=\"dataframe\">\n",
       "  <thead>\n",
       "    <tr style=\"text-align: right;\">\n",
       "      <th></th>\n",
       "      <th>place</th>\n",
       "      <th>catu</th>\n",
       "      <th>sexe</th>\n",
       "      <th>secu1</th>\n",
       "      <th>year_acc</th>\n",
       "      <th>victim_age</th>\n",
       "      <th>catv</th>\n",
       "      <th>obsm</th>\n",
       "      <th>motor</th>\n",
       "      <th>catr</th>\n",
       "      <th>...</th>\n",
       "      <th>com</th>\n",
       "      <th>agg_</th>\n",
       "      <th>int</th>\n",
       "      <th>atm</th>\n",
       "      <th>col</th>\n",
       "      <th>lat</th>\n",
       "      <th>long</th>\n",
       "      <th>hour</th>\n",
       "      <th>nb_victim</th>\n",
       "      <th>nb_vehicules</th>\n",
       "    </tr>\n",
       "  </thead>\n",
       "  <tbody>\n",
       "    <tr>\n",
       "      <th>8205</th>\n",
       "      <td>10</td>\n",
       "      <td>3</td>\n",
       "      <td>1</td>\n",
       "      <td>0.0</td>\n",
       "      <td>2021</td>\n",
       "      <td>11.0</td>\n",
       "      <td>2.0</td>\n",
       "      <td>1.0</td>\n",
       "      <td>1.0</td>\n",
       "      <td>4</td>\n",
       "      <td>...</td>\n",
       "      <td>6088</td>\n",
       "      <td>2</td>\n",
       "      <td>1</td>\n",
       "      <td>0.0</td>\n",
       "      <td>7.0</td>\n",
       "      <td>43.693826</td>\n",
       "      <td>7.238989</td>\n",
       "      <td>17</td>\n",
       "      <td>2</td>\n",
       "      <td>1</td>\n",
       "    </tr>\n",
       "  </tbody>\n",
       "</table>\n",
       "<p>1 rows × 28 columns</p>\n",
       "</div>"
      ],
      "text/plain": [
       "      place  catu  sexe  secu1  year_acc  victim_age  catv  obsm  motor  catr  \\\n",
       "8205     10     3     1    0.0      2021        11.0   2.0   1.0    1.0     4   \n",
       "\n",
       "      ...   com  agg_  int  atm  col        lat      long  hour  nb_victim  \\\n",
       "8205  ...  6088     2    1  0.0  7.0  43.693826  7.238989    17          2   \n",
       "\n",
       "      nb_vehicules  \n",
       "8205             1  \n",
       "\n",
       "[1 rows x 28 columns]"
      ]
     },
     "execution_count": 45,
     "metadata": {},
     "output_type": "execute_result"
    }
   ],
   "source": [
    "X_test_simul.iloc[[0]]"
   ]
  },
  {
   "cell_type": "code",
   "execution_count": 41,
   "metadata": {},
   "outputs": [
    {
     "data": {
      "text/html": [
       "<div>\n",
       "<style scoped>\n",
       "    .dataframe tbody tr th:only-of-type {\n",
       "        vertical-align: middle;\n",
       "    }\n",
       "\n",
       "    .dataframe tbody tr th {\n",
       "        vertical-align: top;\n",
       "    }\n",
       "\n",
       "    .dataframe thead th {\n",
       "        text-align: right;\n",
       "    }\n",
       "</style>\n",
       "<table border=\"1\" class=\"dataframe\">\n",
       "  <thead>\n",
       "    <tr style=\"text-align: right;\">\n",
       "      <th></th>\n",
       "      <th>place</th>\n",
       "      <th>catu</th>\n",
       "      <th>sexe</th>\n",
       "      <th>secu1</th>\n",
       "      <th>year_acc</th>\n",
       "      <th>victim_age</th>\n",
       "      <th>catv</th>\n",
       "      <th>obsm</th>\n",
       "      <th>motor</th>\n",
       "      <th>catr</th>\n",
       "      <th>...</th>\n",
       "      <th>com</th>\n",
       "      <th>agg_</th>\n",
       "      <th>int</th>\n",
       "      <th>atm</th>\n",
       "      <th>col</th>\n",
       "      <th>lat</th>\n",
       "      <th>long</th>\n",
       "      <th>hour</th>\n",
       "      <th>nb_victim</th>\n",
       "      <th>nb_vehicules</th>\n",
       "    </tr>\n",
       "  </thead>\n",
       "  <tbody>\n",
       "    <tr>\n",
       "      <th>0</th>\n",
       "      <td>1</td>\n",
       "      <td>1</td>\n",
       "      <td>1</td>\n",
       "      <td>1.0</td>\n",
       "      <td>2021</td>\n",
       "      <td>25.0</td>\n",
       "      <td>2.0</td>\n",
       "      <td>2.0</td>\n",
       "      <td>1.0</td>\n",
       "      <td>4</td>\n",
       "      <td>...</td>\n",
       "      <td>1053</td>\n",
       "      <td>2</td>\n",
       "      <td>2</td>\n",
       "      <td>1.0</td>\n",
       "      <td>3.0</td>\n",
       "      <td>46.19561</td>\n",
       "      <td>5.22192</td>\n",
       "      <td>22</td>\n",
       "      <td>2</td>\n",
       "      <td>2</td>\n",
       "    </tr>\n",
       "  </tbody>\n",
       "</table>\n",
       "<p>1 rows × 28 columns</p>\n",
       "</div>"
      ],
      "text/plain": [
       "   place  catu  sexe  secu1  year_acc  victim_age  catv  obsm  motor  catr  \\\n",
       "0      1     1     1    1.0      2021        25.0   2.0   2.0    1.0     4   \n",
       "\n",
       "   ...   com  agg_  int  atm  col       lat     long  hour  nb_victim  \\\n",
       "0  ...  1053     2    2  1.0  3.0  46.19561  5.22192    22          2   \n",
       "\n",
       "   nb_vehicules  \n",
       "0             2  \n",
       "\n",
       "[1 rows x 28 columns]"
      ]
     },
     "execution_count": 41,
     "metadata": {},
     "output_type": "execute_result"
    }
   ],
   "source": [
    "X_test_eval.head(1)"
   ]
  },
  {
   "cell_type": "code",
   "execution_count": 44,
   "metadata": {},
   "outputs": [
    {
     "data": {
      "text/html": [
       "<div>\n",
       "<style scoped>\n",
       "    .dataframe tbody tr th:only-of-type {\n",
       "        vertical-align: middle;\n",
       "    }\n",
       "\n",
       "    .dataframe tbody tr th {\n",
       "        vertical-align: top;\n",
       "    }\n",
       "\n",
       "    .dataframe thead th {\n",
       "        text-align: right;\n",
       "    }\n",
       "</style>\n",
       "<table border=\"1\" class=\"dataframe\">\n",
       "  <thead>\n",
       "    <tr style=\"text-align: right;\">\n",
       "      <th></th>\n",
       "      <th>place</th>\n",
       "      <th>catu</th>\n",
       "      <th>sexe</th>\n",
       "      <th>secu1</th>\n",
       "      <th>year_acc</th>\n",
       "      <th>victim_age</th>\n",
       "      <th>catv</th>\n",
       "      <th>obsm</th>\n",
       "      <th>motor</th>\n",
       "      <th>catr</th>\n",
       "      <th>...</th>\n",
       "      <th>com</th>\n",
       "      <th>agg_</th>\n",
       "      <th>int</th>\n",
       "      <th>atm</th>\n",
       "      <th>col</th>\n",
       "      <th>lat</th>\n",
       "      <th>long</th>\n",
       "      <th>hour</th>\n",
       "      <th>nb_victim</th>\n",
       "      <th>nb_vehicules</th>\n",
       "    </tr>\n",
       "  </thead>\n",
       "  <tbody>\n",
       "    <tr>\n",
       "      <th>8205</th>\n",
       "      <td>10</td>\n",
       "      <td>3</td>\n",
       "      <td>1</td>\n",
       "      <td>0.0</td>\n",
       "      <td>2021</td>\n",
       "      <td>11.0</td>\n",
       "      <td>2.0</td>\n",
       "      <td>1.0</td>\n",
       "      <td>1.0</td>\n",
       "      <td>4</td>\n",
       "      <td>...</td>\n",
       "      <td>6088</td>\n",
       "      <td>2</td>\n",
       "      <td>1</td>\n",
       "      <td>0.0</td>\n",
       "      <td>7.0</td>\n",
       "      <td>43.693826</td>\n",
       "      <td>7.238989</td>\n",
       "      <td>17</td>\n",
       "      <td>2</td>\n",
       "      <td>1</td>\n",
       "    </tr>\n",
       "  </tbody>\n",
       "</table>\n",
       "<p>1 rows × 28 columns</p>\n",
       "</div>"
      ],
      "text/plain": [
       "      place  catu  sexe  secu1  year_acc  victim_age  catv  obsm  motor  catr  \\\n",
       "8205     10     3     1    0.0      2021        11.0   2.0   1.0    1.0     4   \n",
       "\n",
       "      ...   com  agg_  int  atm  col        lat      long  hour  nb_victim  \\\n",
       "8205  ...  6088     2    1  0.0  7.0  43.693826  7.238989    17          2   \n",
       "\n",
       "      nb_vehicules  \n",
       "8205             1  \n",
       "\n",
       "[1 rows x 28 columns]"
      ]
     },
     "execution_count": 44,
     "metadata": {},
     "output_type": "execute_result"
    }
   ],
   "source": [
    "X_test_simul.head(1)"
   ]
  },
  {
   "cell_type": "code",
   "execution_count": 48,
   "metadata": {},
   "outputs": [],
   "source": [
    "df = X_test_eval"
   ]
  },
  {
   "cell_type": "code",
   "execution_count": 49,
   "metadata": {},
   "outputs": [],
   "source": [
    "df = pd.concat([X_test_eval, X_test_simul.iloc[[0]]], ignore_index=True)"
   ]
  },
  {
   "cell_type": "code",
   "execution_count": 50,
   "metadata": {},
   "outputs": [
    {
     "data": {
      "text/html": [
       "<div>\n",
       "<style scoped>\n",
       "    .dataframe tbody tr th:only-of-type {\n",
       "        vertical-align: middle;\n",
       "    }\n",
       "\n",
       "    .dataframe tbody tr th {\n",
       "        vertical-align: top;\n",
       "    }\n",
       "\n",
       "    .dataframe thead th {\n",
       "        text-align: right;\n",
       "    }\n",
       "</style>\n",
       "<table border=\"1\" class=\"dataframe\">\n",
       "  <thead>\n",
       "    <tr style=\"text-align: right;\">\n",
       "      <th></th>\n",
       "      <th>place</th>\n",
       "      <th>catu</th>\n",
       "      <th>sexe</th>\n",
       "      <th>secu1</th>\n",
       "      <th>year_acc</th>\n",
       "      <th>victim_age</th>\n",
       "      <th>catv</th>\n",
       "      <th>obsm</th>\n",
       "      <th>motor</th>\n",
       "      <th>catr</th>\n",
       "      <th>...</th>\n",
       "      <th>com</th>\n",
       "      <th>agg_</th>\n",
       "      <th>int</th>\n",
       "      <th>atm</th>\n",
       "      <th>col</th>\n",
       "      <th>lat</th>\n",
       "      <th>long</th>\n",
       "      <th>hour</th>\n",
       "      <th>nb_victim</th>\n",
       "      <th>nb_vehicules</th>\n",
       "    </tr>\n",
       "  </thead>\n",
       "  <tbody>\n",
       "    <tr>\n",
       "      <th>0</th>\n",
       "      <td>1</td>\n",
       "      <td>1</td>\n",
       "      <td>1</td>\n",
       "      <td>1.0</td>\n",
       "      <td>2021</td>\n",
       "      <td>25.0</td>\n",
       "      <td>2.0</td>\n",
       "      <td>2.0</td>\n",
       "      <td>1.0</td>\n",
       "      <td>4</td>\n",
       "      <td>...</td>\n",
       "      <td>1053</td>\n",
       "      <td>2</td>\n",
       "      <td>2</td>\n",
       "      <td>1.0</td>\n",
       "      <td>3.0</td>\n",
       "      <td>46.19561</td>\n",
       "      <td>5.22192</td>\n",
       "      <td>22</td>\n",
       "      <td>2</td>\n",
       "      <td>2</td>\n",
       "    </tr>\n",
       "  </tbody>\n",
       "</table>\n",
       "<p>1 rows × 28 columns</p>\n",
       "</div>"
      ],
      "text/plain": [
       "   place  catu  sexe  secu1  year_acc  victim_age  catv  obsm  motor  catr  \\\n",
       "0      1     1     1    1.0      2021        25.0   2.0   2.0    1.0     4   \n",
       "\n",
       "   ...   com  agg_  int  atm  col       lat     long  hour  nb_victim  \\\n",
       "0  ...  1053     2    2  1.0  3.0  46.19561  5.22192    22          2   \n",
       "\n",
       "   nb_vehicules  \n",
       "0             2  \n",
       "\n",
       "[1 rows x 28 columns]"
      ]
     },
     "execution_count": 50,
     "metadata": {},
     "output_type": "execute_result"
    }
   ],
   "source": [
    "df.head(1)"
   ]
  },
  {
   "cell_type": "code",
   "execution_count": 52,
   "metadata": {},
   "outputs": [],
   "source": [
    "def transfer_row(df1, df2):\n",
    "    # Prendre la première ligne de df2\n",
    "    first_row_df2 = df2.iloc[[0]]\n",
    "\n",
    "    # Supprimer la première ligne de df2\n",
    "    df2 = df2.iloc[1:]\n",
    "\n",
    "    # Ajouter la première ligne de df2 à la suite de df1\n",
    "    df1 =pd.concat([df1, first_row_df2], ignore_index=True)\n",
    "\n",
    "    # Réinitialiser les index pour éviter les problèmes\n",
    "    # df1 = df1.reset_index(drop=True)\n",
    "    # df2 = df2.reset_index(drop=True)\n",
    "\n",
    "    # Sortie:\n",
    "    return df1, df2"
   ]
  },
  {
   "cell_type": "code",
   "execution_count": 53,
   "metadata": {},
   "outputs": [
    {
     "name": "stdout",
     "output_type": "stream",
     "text": [
      "X_test_eval shape: (8205, 28)\n",
      "X_test_simul shape: (8205, 28)\n",
      "y_test_eval shape: (8205, 1)\n",
      "y_test_simul shape: (8205, 1)\n"
     ]
    }
   ],
   "source": [
    "print(\"X_test_eval shape:\", X_test_eval.shape)\n",
    "print(\"X_test_simul shape:\", X_test_simul.shape)\n",
    "print(\"y_test_eval shape:\", y_test_eval.shape)\n",
    "print(\"y_test_simul shape:\", y_test_simul.shape)"
   ]
  },
  {
   "cell_type": "code",
   "execution_count": 54,
   "metadata": {},
   "outputs": [],
   "source": [
    "X_test_eval, X_test_simul = transfer_row(X_test_eval, X_test_simul)\n",
    "y_test_eval, y_test_simul = transfer_row(y_test_eval, y_test_simul)"
   ]
  },
  {
   "cell_type": "code",
   "execution_count": 55,
   "metadata": {},
   "outputs": [
    {
     "name": "stdout",
     "output_type": "stream",
     "text": [
      "X_test_eval shape: (8206, 28)\n",
      "X_test_simul shape: (8204, 28)\n",
      "y_test_eval shape: (8206, 1)\n",
      "y_test_simul shape: (8204, 1)\n"
     ]
    }
   ],
   "source": [
    "print(\"X_test_eval shape:\", X_test_eval.shape)\n",
    "print(\"X_test_simul shape:\", X_test_simul.shape)\n",
    "print(\"y_test_eval shape:\", y_test_eval.shape)\n",
    "print(\"y_test_simul shape:\", y_test_simul.shape)"
   ]
  },
  {
   "cell_type": "code",
   "execution_count": 56,
   "metadata": {},
   "outputs": [
    {
     "name": "stdout",
     "output_type": "stream",
     "text": [
      "f1-score: 0.7388785679711554\n"
     ]
    }
   ],
   "source": [
    "# Prédiction générale de y\n",
    "y_pred = rdf.predict(X_test_eval)\n",
    "y_true = y_test_eval\n",
    "\n",
    "# Calcul du nouveau F1 score macro average\n",
    "f1_score_macro_average = f1_score(y_true=y_true, y_pred=y_pred, average=\"macro\")\n",
    "\n",
    "# Affichage du f1-score:\n",
    "print(\"f1-score:\",f1_score_macro_average )"
   ]
  },
  {
   "cell_type": "code",
   "execution_count": 59,
   "metadata": {},
   "outputs": [
    {
     "ename": "TypeError",
     "evalue": "'list' object is not callable",
     "output_type": "error",
     "traceback": [
      "\u001b[1;31m---------------------------------------------------------------------------\u001b[0m",
      "\u001b[1;31mTypeError\u001b[0m                                 Traceback (most recent call last)",
      "Cell \u001b[1;32mIn[59], line 24\u001b[0m\n\u001b[0;32m     21\u001b[0m y_true \u001b[38;5;241m=\u001b[39m y_test_eval\n\u001b[0;32m     23\u001b[0m \u001b[38;5;66;03m# Calcul du nouveau F1 score macro average\u001b[39;00m\n\u001b[1;32m---> 24\u001b[0m f1_score_new \u001b[38;5;241m=\u001b[39m \u001b[43mf1_score\u001b[49m\u001b[43m(\u001b[49m\u001b[43my_true\u001b[49m\u001b[38;5;241;43m=\u001b[39;49m\u001b[43my_true\u001b[49m\u001b[43m,\u001b[49m\u001b[43m \u001b[49m\u001b[43my_pred\u001b[49m\u001b[38;5;241;43m=\u001b[39;49m\u001b[43my_pred\u001b[49m\u001b[43m,\u001b[49m\u001b[43m \u001b[49m\u001b[43maverage\u001b[49m\u001b[38;5;241;43m=\u001b[39;49m\u001b[38;5;124;43m\"\u001b[39;49m\u001b[38;5;124;43mmacro\u001b[39;49m\u001b[38;5;124;43m\"\u001b[39;49m\u001b[43m)\u001b[49m\n\u001b[0;32m     26\u001b[0m f1_score_list\u001b[38;5;241m.\u001b[39mappend(f1_score_new)\n",
      "\u001b[1;31mTypeError\u001b[0m: 'list' object is not callable"
     ]
    }
   ],
   "source": [
    "# Mise en forme:\n",
    "# Trouver l'index médian\n",
    "median_index = len(X_test) // 2\n",
    "\n",
    "# Diviser le DataFrame en deux parties\n",
    "X_test_eval = X_test.iloc[:median_index]\n",
    "X_test_simul = X_test.iloc[median_index:]\n",
    "\n",
    "y_test_eval = y_test.iloc[:median_index]\n",
    "y_test_simul = y_test.iloc[median_index:]\n",
    "\n",
    "f1_score_list = []\n",
    "N = len(X_test_simul)\n",
    "\n",
    "for i in range(100):\n",
    "    X_test_eval, X_test_simul = transfer_row(X_test_eval, X_test_simul)\n",
    "    y_test_eval, y_test_simul = transfer_row(y_test_eval, y_test_simul)\n",
    "\n",
    "    # Prédiction générale de y\n",
    "    y_pred = rdf.predict(X_test_eval)\n",
    "    y_true = y_test_eval\n",
    "\n",
    "    # Calcul du nouveau F1 score macro average\n",
    "    f1_score_new = f1_score(y_true=y_true, y_pred=y_pred, average=\"macro\")\n",
    "\n",
    "    f1_score_list.append(f1_score_new)\n"
   ]
  },
  {
   "cell_type": "markdown",
   "metadata": {},
   "source": [
    "## Deuxième essai"
   ]
  },
  {
   "cell_type": "code",
   "execution_count": 13,
   "metadata": {},
   "outputs": [],
   "source": [
    "# Trouver l'index médian\n",
    "median_index = len(X_test) // 2\n",
    "\n",
    "# Diviser le DataFrame en deux parties\n",
    "X_test_eval = X_test.iloc[:median_index]\n",
    "X_test_pool = X_test.iloc[median_index:]\n",
    "\n",
    "y_test_eval = y_test.iloc[:median_index]\n",
    "y_test_pool = y_test.iloc[median_index:]"
   ]
  },
  {
   "cell_type": "code",
   "execution_count": 14,
   "metadata": {},
   "outputs": [
    {
     "name": "stdout",
     "output_type": "stream",
     "text": [
      "f1-score: 0.7389780207707664\n"
     ]
    }
   ],
   "source": [
    "# Evaluation du modèle sur la partie X_test_eval:\n",
    "rdf = joblib.load(\"../models/trained_model.joblib\")\n",
    "\n",
    "# Prédiction générale de y\n",
    "y_pred = rdf.predict(X_test_eval)\n",
    "y_true = y_test_eval\n",
    "\n",
    "# Calcul du nouveau F1 score macro average\n",
    "f1_score_macro_average = f1_score(y_true=y_true, y_pred=y_pred, average=\"macro\")\n",
    "\n",
    "# Affichage du f1-score:\n",
    "print(\"f1-score:\",f1_score_macro_average )"
   ]
  },
  {
   "cell_type": "code",
   "execution_count": 15,
   "metadata": {},
   "outputs": [
    {
     "data": {
      "text/plain": [
       "array([0, 1, 0, ..., 0, 0, 0], dtype=int64)"
      ]
     },
     "execution_count": 15,
     "metadata": {},
     "output_type": "execute_result"
    }
   ],
   "source": [
    "y_pred"
   ]
  },
  {
   "cell_type": "code",
   "execution_count": 16,
   "metadata": {},
   "outputs": [
    {
     "name": "stdout",
     "output_type": "stream",
     "text": [
      "X_test_eval shape: (8205, 28)\n",
      "X_test_pool shape: (8205, 28)\n",
      "y_test_eval shape: (8205, 1)\n",
      "y_test_pool shape: (8205, 1)\n"
     ]
    }
   ],
   "source": [
    "print(\"X_test_eval shape:\", X_test_eval.shape)\n",
    "print(\"X_test_pool shape:\", X_test_pool.shape)\n",
    "print(\"y_test_eval shape:\", y_test_eval.shape)\n",
    "print(\"y_test_pool shape:\", y_test_pool.shape)"
   ]
  },
  {
   "cell_type": "code",
   "execution_count": 10,
   "metadata": {},
   "outputs": [
    {
     "data": {
      "text/plain": [
       "array([0], dtype=int64)"
      ]
     },
     "execution_count": 10,
     "metadata": {},
     "output_type": "execute_result"
    }
   ],
   "source": [
    "i = 8205\n",
    "X_line = X_test_pool.loc[[i]]\n",
    "y_pred_new = rdf.predict(X_line)\n",
    "y_pred_new"
   ]
  },
  {
   "cell_type": "code",
   "execution_count": 17,
   "metadata": {},
   "outputs": [
    {
     "data": {
      "text/html": [
       "<div>\n",
       "<style scoped>\n",
       "    .dataframe tbody tr th:only-of-type {\n",
       "        vertical-align: middle;\n",
       "    }\n",
       "\n",
       "    .dataframe tbody tr th {\n",
       "        vertical-align: top;\n",
       "    }\n",
       "\n",
       "    .dataframe thead th {\n",
       "        text-align: right;\n",
       "    }\n",
       "</style>\n",
       "<table border=\"1\" class=\"dataframe\">\n",
       "  <thead>\n",
       "    <tr style=\"text-align: right;\">\n",
       "      <th></th>\n",
       "      <th>grav</th>\n",
       "    </tr>\n",
       "  </thead>\n",
       "  <tbody>\n",
       "    <tr>\n",
       "      <th>8205</th>\n",
       "      <td>1</td>\n",
       "    </tr>\n",
       "  </tbody>\n",
       "</table>\n",
       "</div>"
      ],
      "text/plain": [
       "      grav\n",
       "8205     1"
      ]
     },
     "execution_count": 17,
     "metadata": {},
     "output_type": "execute_result"
    }
   ],
   "source": [
    "i = 8205\n",
    "y_test_pool.loc[[i]]"
   ]
  },
  {
   "cell_type": "code",
   "execution_count": 11,
   "metadata": {},
   "outputs": [],
   "source": [
    "# Transfert d'une ligne:\n",
    "X_test_eval = pd.concat([X_test_eval, X_test_pool.loc[[i]] ])\n",
    "y_test_eval = pd.concat([y_test_eval, y_test_pool.loc[[i]] ])\n",
    "\n",
    "X_test_pool = X_test_pool.drop([i])\n",
    "y_test_pool = y_test_pool.drop([i])\n",
    "\n",
    "y_pred = np.concatenate((y_pred, y_pred_new))\n",
    "y_true = y_test_eval\n"
   ]
  },
  {
   "cell_type": "code",
   "execution_count": 12,
   "metadata": {},
   "outputs": [
    {
     "name": "stdout",
     "output_type": "stream",
     "text": [
      "X_test_eval shape: (8206, 28)\n",
      "X_test_pool shape: (8204, 28)\n",
      "y_test_eval shape: (8206, 1)\n",
      "y_test_pool shape: (8204, 1)\n"
     ]
    }
   ],
   "source": [
    "print(\"X_test_eval shape:\", X_test_eval.shape)\n",
    "print(\"X_test_pool shape:\", X_test_pool.shape)\n",
    "print(\"y_test_eval shape:\", y_test_eval.shape)\n",
    "print(\"y_test_pool shape:\", y_test_pool.shape)"
   ]
  },
  {
   "cell_type": "code",
   "execution_count": 102,
   "metadata": {},
   "outputs": [
    {
     "name": "stdout",
     "output_type": "stream",
     "text": [
      "f1-score: 0.7388785679711554\n"
     ]
    }
   ],
   "source": [
    "# Calcul du nouveau F1 score macro average\n",
    "f1_score_macro_average = f1_score(y_true=y_true, y_pred=y_pred, average=\"macro\")\n",
    "\n",
    "# Affichage du f1-score:\n",
    "print(\"f1-score:\",f1_score_macro_average )"
   ]
  },
  {
   "cell_type": "code",
   "execution_count": 114,
   "metadata": {},
   "outputs": [],
   "source": [
    "# Trouver l'index médian\n",
    "median_index = len(X_test) // 2\n",
    "\n",
    "# Diviser le DataFrame en deux parties\n",
    "X_test_eval = X_test.iloc[:median_index]\n",
    "X_test_pool = X_test.iloc[median_index:]\n",
    "\n",
    "y_test_eval = y_test.iloc[:median_index]\n",
    "y_test_pool = y_test.iloc[median_index:]\n",
    "\n",
    "# Evaluation du modèle sur la partie X_test_eval:\n",
    "rdf = joblib.load(\"../models/trained_model.joblib\")\n",
    "\n",
    "# Prédiction générale de y\n",
    "y_pred = rdf.predict(X_test_eval)\n",
    "y_true = y_test_eval\n",
    "\n",
    "f1_score_list = []\n",
    "\n",
    "# Calcul du premier F1 score macro average\n",
    "f1_score_macro_average = f1_score(y_true=y_true, y_pred=y_pred, average=\"macro\")\n",
    "f1_score_list.append(f1_score_macro_average)\n",
    "\n",
    "\n",
    "####\n",
    "index = X_test_pool.index.tolist()\n",
    "for i in index:\n",
    "    X_line = X_test_pool.loc[[i]]\n",
    "    y_pred_new = rdf.predict(X_line)\n",
    "    y_pred_new\n",
    "\n",
    "    # Transfert d'une ligne:\n",
    "    X_test_eval = pd.concat([X_test_eval, X_test_pool.loc[[i]] ])\n",
    "    y_test_eval = pd.concat([y_test_eval, y_test_pool.loc[[i]] ])\n",
    "\n",
    "    X_test_pool = X_test_pool.drop([i])\n",
    "    y_test_pool = y_test_pool.drop([i])\n",
    "\n",
    "    y_pred = np.concatenate((y_pred, y_pred_new))\n",
    "    y_true = y_test_eval\n",
    "\n",
    "    # Calcul du nouveau F1 score macro average\n",
    "    f1_score_macro_average = f1_score(y_true=y_true, y_pred=y_pred, average=\"macro\")\n",
    "\n",
    "    # Affichage du f1-score:\n",
    "    f1_score_list.append(f1_score_macro_average)"
   ]
  },
  {
   "cell_type": "code",
   "execution_count": 115,
   "metadata": {},
   "outputs": [
    {
     "data": {
      "image/png": "[encoded data removed]",
      "text/plain": [
       "<Figure size 640x480 with 1 Axes>"
      ]
     },
     "metadata": {},
     "output_type": "display_data"
    }
   ],
   "source": [
    "import matplotlib.pyplot as plt\n",
    "plt.plot(f1_score_list)\n",
    "plt.show()"
   ]
  },
  {
   "cell_type": "code",
   "execution_count": null,
   "metadata": {},
   "outputs": [],
   "source": []
  }
 ],
 "metadata": {
  "kernelspec": {
   "display_name": "my_env",
   "language": "python",
   "name": "python3"
  },
  "language_info": {
   "codemirror_mode": {
    "name": "ipython",
    "version": 3
   },
   "file_extension": ".py",
   "mimetype": "text/x-python",
   "name": "python",
   "nbconvert_exporter": "python",
   "pygments_lexer": "ipython3",
   "version": "3.11.8"
  }
 },
 "nbformat": 4,
 "nbformat_minor": 2
}

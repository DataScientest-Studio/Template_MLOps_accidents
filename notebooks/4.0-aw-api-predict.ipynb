{
 "cells": [
  {
   "cell_type": "markdown",
   "metadata": {},
   "source": [
    "## Prédictions via l'API SHIELD"
   ]
  },
  {
   "cell_type": "code",
   "execution_count": 2,
   "metadata": {},
   "outputs": [
    {
     "data": {
      "text/html": [
       "<div>\n",
       "<style scoped>\n",
       "    .dataframe tbody tr th:only-of-type {\n",
       "        vertical-align: middle;\n",
       "    }\n",
       "\n",
       "    .dataframe tbody tr th {\n",
       "        vertical-align: top;\n",
       "    }\n",
       "\n",
       "    .dataframe thead th {\n",
       "        text-align: right;\n",
       "    }\n",
       "</style>\n",
       "<table border=\"1\" class=\"dataframe\">\n",
       "  <thead>\n",
       "    <tr style=\"text-align: right;\">\n",
       "      <th></th>\n",
       "      <th>place</th>\n",
       "      <th>catu</th>\n",
       "      <th>sexe</th>\n",
       "      <th>secu1</th>\n",
       "      <th>year_acc</th>\n",
       "      <th>victim_age</th>\n",
       "      <th>catv</th>\n",
       "      <th>obsm</th>\n",
       "      <th>motor</th>\n",
       "      <th>catr</th>\n",
       "      <th>...</th>\n",
       "      <th>com</th>\n",
       "      <th>agg_</th>\n",
       "      <th>int</th>\n",
       "      <th>atm</th>\n",
       "      <th>col</th>\n",
       "      <th>lat</th>\n",
       "      <th>long</th>\n",
       "      <th>hour</th>\n",
       "      <th>nb_victim</th>\n",
       "      <th>nb_vehicules</th>\n",
       "    </tr>\n",
       "  </thead>\n",
       "  <tbody>\n",
       "    <tr>\n",
       "      <th>0</th>\n",
       "      <td>10.0</td>\n",
       "      <td>3.0</td>\n",
       "      <td>1.0</td>\n",
       "      <td>0.0</td>\n",
       "      <td>2021.0</td>\n",
       "      <td>60.0</td>\n",
       "      <td>2.0</td>\n",
       "      <td>1.0</td>\n",
       "      <td>1.0</td>\n",
       "      <td>3.0</td>\n",
       "      <td>...</td>\n",
       "      <td>77317.0</td>\n",
       "      <td>2.0</td>\n",
       "      <td>1.0</td>\n",
       "      <td>0.0</td>\n",
       "      <td>6.0</td>\n",
       "      <td>48.6</td>\n",
       "      <td>2.89</td>\n",
       "      <td>17.0</td>\n",
       "      <td>2.0</td>\n",
       "      <td>1.0</td>\n",
       "    </tr>\n",
       "  </tbody>\n",
       "</table>\n",
       "<p>1 rows × 28 columns</p>\n",
       "</div>"
      ],
      "text/plain": [
       "   place  catu  sexe  secu1  year_acc  victim_age  catv  obsm  motor  catr  \\\n",
       "0   10.0   3.0   1.0    0.0    2021.0        60.0   2.0   1.0    1.0   3.0   \n",
       "\n",
       "   ...      com  agg_  int  atm  col   lat  long  hour  nb_victim  \\\n",
       "0  ...  77317.0   2.0  1.0  0.0  6.0  48.6  2.89  17.0        2.0   \n",
       "\n",
       "   nb_vehicules  \n",
       "0           1.0  \n",
       "\n",
       "[1 rows x 28 columns]"
      ]
     },
     "execution_count": 2,
     "metadata": {},
     "output_type": "execute_result"
    }
   ],
   "source": [
    "import pandas as pd\n",
    "import random\n",
    "import numpy as np\n",
    "import joblib\n",
    "\n",
    "rdf = joblib.load(\"../src/models/trained_model.joblib\")\n",
    "data = pd.read_json(\"../src/models/test_features.json\", orient='index')\n",
    "data.T"
   ]
  },
  {
   "cell_type": "markdown",
   "metadata": {},
   "source": [
    "### Fonction `get_pred_from_test()`"
   ]
  },
  {
   "cell_type": "code",
   "execution_count": 3,
   "metadata": {},
   "outputs": [
    {
     "name": "stdout",
     "output_type": "stream",
     "text": [
      "L'intervention est prioritaire.\n"
     ]
    }
   ],
   "source": [
    "pred = rdf.predict(data.T)\n",
    "if pred[0] == 1:\n",
    "    print(\"L'intervention est prioritaire.\")\n",
    "else:\n",
    "    print(\"L'intervention est non prioritaire\")"
   ]
  },
  {
   "cell_type": "code",
   "execution_count": 4,
   "metadata": {},
   "outputs": [
    {
     "name": "stdout",
     "output_type": "stream",
     "text": [
      "L'intervention est non prioritaire\n"
     ]
    }
   ],
   "source": [
    "X_test = pd.read_csv(\"../data/preprocessed/X_test.csv\")\n",
    "\n",
    "i = random.choice(X_test.index)\n",
    "type(X_test.loc[[i]])\n",
    "rand_pred = rdf.predict(X_test.iloc[[i]])\n",
    "if rand_pred[0] == 1:\n",
    "    print(\"L'intervention est prioritaire.\")\n",
    "else:\n",
    "    print(\"L'intervention est non prioritaire\")"
   ]
  },
  {
   "cell_type": "markdown",
   "metadata": {},
   "source": [
    "### Fonction `get_pred_from_call()`"
   ]
  },
  {
   "cell_type": "code",
   "execution_count": 5,
   "metadata": {},
   "outputs": [],
   "source": [
    "from pydantic import BaseModel\n",
    "from typing import Optional\n",
    "\n",
    "class InputData(BaseModel):\n",
    "    place: Optional[int] = 10\n",
    "    catu: Optional[int] = 3\n",
    "    sexe: Optional[int] = 1\n",
    "    secu1 :Optional[float] = 0.0\n",
    "    year_acc: Optional[int] = 2021\n",
    "    victim_age: Optional[int] = 60\n",
    "    catv: Optional[int] = 2\n",
    "    obsm: Optional[int] = 1\n",
    "    motor: Optional[int] = 1\n",
    "    catr: Optional[int] = 3\n",
    "    circ: Optional[int] = 2\n",
    "    surf: Optional[int] = 1\n",
    "    situ: Optional[int] = 1\n",
    "    vma: Optional[int] = 50\n",
    "    jour: Optional[int] = 7\n",
    "    mois: Optional[int] = 12\n",
    "    lum: Optional[int] = 5\n",
    "    dep: Optional[int] = 77\n",
    "    com: Optional[int] = 77317\n",
    "    agg_: Optional[int] = 2\n",
    "    inter: Optional[int] = 1 # variable d'origine 'int' renommée ici en 'inter' (pour 'intersection') pour éviter les conflits avec le type 'int'.\n",
    "    atm: Optional[int] = 0\n",
    "    col: Optional[int] = 6\n",
    "    lat: Optional[float] = 48.60\n",
    "    long: Optional[float] = 2.89\n",
    "    hour: Optional[int] = 17\n",
    "    nb_victim: Optional[int] = 2\n",
    "    nb_vehicules: Optional[int] = 1\n",
    "    "
   ]
  },
  {
   "cell_type": "code",
   "execution_count": 6,
   "metadata": {},
   "outputs": [
    {
     "data": {
      "text/plain": [
       "{'place': 10,\n",
       " 'catu': 3,\n",
       " 'sexe': 1,\n",
       " 'secu1': 0.0,\n",
       " 'year_acc': 2021,\n",
       " 'victim_age': 60,\n",
       " 'catv': 2,\n",
       " 'obsm': 1,\n",
       " 'motor': 1,\n",
       " 'catr': 3,\n",
       " 'circ': 2,\n",
       " 'surf': 1,\n",
       " 'situ': 1,\n",
       " 'vma': 50,\n",
       " 'jour': 7,\n",
       " 'mois': 12,\n",
       " 'lum': 5,\n",
       " 'dep': 77,\n",
       " 'com': 77317,\n",
       " 'agg_': 2,\n",
       " 'inter': 1,\n",
       " 'atm': 0,\n",
       " 'col': 6,\n",
       " 'lat': 48.6,\n",
       " 'long': 2.89,\n",
       " 'hour': 17,\n",
       " 'nb_victim': 2,\n",
       " 'nb_vehicules': 1}"
      ]
     },
     "execution_count": 6,
     "metadata": {},
     "output_type": "execute_result"
    }
   ],
   "source": [
    "data = InputData()\n",
    "dict(data)"
   ]
  },
  {
   "cell_type": "code",
   "execution_count": 7,
   "metadata": {},
   "outputs": [
    {
     "data": {
      "text/html": [
       "<div>\n",
       "<style scoped>\n",
       "    .dataframe tbody tr th:only-of-type {\n",
       "        vertical-align: middle;\n",
       "    }\n",
       "\n",
       "    .dataframe tbody tr th {\n",
       "        vertical-align: top;\n",
       "    }\n",
       "\n",
       "    .dataframe thead th {\n",
       "        text-align: right;\n",
       "    }\n",
       "</style>\n",
       "<table border=\"1\" class=\"dataframe\">\n",
       "  <thead>\n",
       "    <tr style=\"text-align: right;\">\n",
       "      <th></th>\n",
       "      <th>place</th>\n",
       "      <th>catu</th>\n",
       "      <th>sexe</th>\n",
       "      <th>secu1</th>\n",
       "      <th>year_acc</th>\n",
       "      <th>victim_age</th>\n",
       "      <th>catv</th>\n",
       "      <th>obsm</th>\n",
       "      <th>motor</th>\n",
       "      <th>catr</th>\n",
       "      <th>...</th>\n",
       "      <th>com</th>\n",
       "      <th>agg_</th>\n",
       "      <th>int</th>\n",
       "      <th>atm</th>\n",
       "      <th>col</th>\n",
       "      <th>lat</th>\n",
       "      <th>long</th>\n",
       "      <th>hour</th>\n",
       "      <th>nb_victim</th>\n",
       "      <th>nb_vehicules</th>\n",
       "    </tr>\n",
       "  </thead>\n",
       "  <tbody>\n",
       "    <tr>\n",
       "      <th>0</th>\n",
       "      <td>10.0</td>\n",
       "      <td>3.0</td>\n",
       "      <td>1.0</td>\n",
       "      <td>0.0</td>\n",
       "      <td>2021.0</td>\n",
       "      <td>60.0</td>\n",
       "      <td>2.0</td>\n",
       "      <td>1.0</td>\n",
       "      <td>1.0</td>\n",
       "      <td>3.0</td>\n",
       "      <td>...</td>\n",
       "      <td>77317.0</td>\n",
       "      <td>2.0</td>\n",
       "      <td>1.0</td>\n",
       "      <td>0.0</td>\n",
       "      <td>6.0</td>\n",
       "      <td>48.6</td>\n",
       "      <td>2.89</td>\n",
       "      <td>17.0</td>\n",
       "      <td>2.0</td>\n",
       "      <td>1.0</td>\n",
       "    </tr>\n",
       "  </tbody>\n",
       "</table>\n",
       "<p>1 rows × 28 columns</p>\n",
       "</div>"
      ],
      "text/plain": [
       "   place  catu  sexe  secu1  year_acc  victim_age  catv  obsm  motor  catr  \\\n",
       "0   10.0   3.0   1.0    0.0    2021.0        60.0   2.0   1.0    1.0   3.0   \n",
       "\n",
       "   ...      com  agg_  int  atm  col   lat  long  hour  nb_victim  \\\n",
       "0  ...  77317.0   2.0  1.0  0.0  6.0  48.6  2.89  17.0        2.0   \n",
       "\n",
       "   nb_vehicules  \n",
       "0           1.0  \n",
       "\n",
       "[1 rows x 28 columns]"
      ]
     },
     "execution_count": 7,
     "metadata": {},
     "output_type": "execute_result"
    }
   ],
   "source": [
    "test = pd.DataFrame.from_dict(dict(data), orient='index').T\n",
    "test.rename(columns={\"inter\": \"int\"}, inplace = True)\n",
    "test"
   ]
  },
  {
   "cell_type": "code",
   "execution_count": 8,
   "metadata": {},
   "outputs": [
    {
     "name": "stdout",
     "output_type": "stream",
     "text": [
      "L'intervention est prioritaire.\n"
     ]
    }
   ],
   "source": [
    "pred = rdf.predict(test)\n",
    "priority = pred[0]\n",
    "if priority == 1:\n",
    "    print(\"L'intervention est prioritaire.\")\n",
    "else:\n",
    "    print(\"L'intervention n'est pas prioritaire.\")"
   ]
  },
  {
   "cell_type": "code",
   "execution_count": null,
   "metadata": {},
   "outputs": [],
   "source": []
  }
 ],
 "metadata": {
  "kernelspec": {
   "display_name": "my_env",
   "language": "python",
   "name": "python3"
  },
  "language_info": {
   "codemirror_mode": {
    "name": "ipython",
    "version": 3
   },
   "file_extension": ".py",
   "mimetype": "text/x-python",
   "name": "python",
   "nbconvert_exporter": "python",
   "pygments_lexer": "ipython3",
   "version": "3.11.5"
  }
 },
 "nbformat": 4,
 "nbformat_minor": 2
}

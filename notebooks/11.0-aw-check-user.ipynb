{
 "cells": [
  {
   "cell_type": "markdown",
   "metadata": {},
   "source": [
    "# Check user"
   ]
  },
  {
   "cell_type": "code",
   "execution_count": 12,
   "metadata": {},
   "outputs": [],
   "source": [
    "import json\n",
    "from fastapi import HTTPException"
   ]
  },
  {
   "cell_type": "code",
   "execution_count": 2,
   "metadata": {},
   "outputs": [],
   "source": [
    "with open(\"../src/users_db/users_db.json\", 'r') as file:\n",
    "    users_db = json.load(file)"
   ]
  },
  {
   "cell_type": "code",
   "execution_count": 10,
   "metadata": {},
   "outputs": [],
   "source": [
    "header_admin = {\"identification\": \"admin:4dmin\"}\n",
    "header_admin_w = {\"identification\": \"admin:4min\"}\n",
    "header_fdo = {\"identification\": \"fdo:c0ps\"}"
   ]
  },
  {
   "cell_type": "code",
   "execution_count": 6,
   "metadata": {},
   "outputs": [
    {
     "data": {
      "text/plain": [
       "['admin', '4dmin']"
      ]
     },
     "execution_count": 6,
     "metadata": {},
     "output_type": "execute_result"
    }
   ],
   "source": [
    "header_admin[\"identification\"].split(\":\")"
   ]
  },
  {
   "cell_type": "code",
   "execution_count": 20,
   "metadata": {},
   "outputs": [],
   "source": [
    "def check_user(header, rights):\n",
    "    \"\"\"\n",
    "    Checks in users_db.json if the user has enough rights.\n",
    "\n",
    "    Arguments:\n",
    "        - header: {\"identification\": \"username:password\"}\n",
    "        provided by fastapi Header module.\n",
    "        - rights: int \n",
    "                - 0: basic access for common users\n",
    "                - 1: full access to all features.\n",
    "    \"\"\"\n",
    "    with open(\"../src/users_db/users_db.json\", 'r') as file:\n",
    "        users_db = json.load(file)\n",
    "    try:\n",
    "        user, psw = header[\"identification\"].split(\":\")\n",
    "    except:\n",
    "        raise HTTPException(\n",
    "            status_code = 401,\n",
    "            detail=\"Wrong format: you must sign following the pattern username:password .\"\n",
    "        )\n",
    "    try:\n",
    "        users_db[user]\n",
    "    except:\n",
    "        raise HTTPException(\n",
    "            status_code=401, \n",
    "            detail=\"Unknown user.\"\n",
    "        )\n",
    "    if users_db[user][\"password\"] == psw:\n",
    "        if users_db[user][\"rights\"] < rights:\n",
    "            raise HTTPException(\n",
    "                status_code=403,\n",
    "                detail=\"Access refused: rights.\")\n",
    "        else: \n",
    "            return True\n",
    "    else:\n",
    "        raise HTTPException(\n",
    "                status_code=401,\n",
    "                detail=\"Invalid password\")"
   ]
  },
  {
   "cell_type": "code",
   "execution_count": 26,
   "metadata": {},
   "outputs": [
    {
     "data": {
      "text/plain": [
       "True"
      ]
     },
     "execution_count": 26,
     "metadata": {},
     "output_type": "execute_result"
    }
   ],
   "source": [
    "check_user({\"identification\": \"admin:4dmin\"}, 1)"
   ]
  },
  {
   "cell_type": "code",
   "execution_count": 3,
   "metadata": {},
   "outputs": [
    {
     "data": {
      "text/plain": [
       "[2011]"
      ]
     },
     "execution_count": 3,
     "metadata": {},
     "output_type": "execute_result"
    }
   ],
   "source": [
    "year_list = [2011, 2011]\n",
    "\n",
    "# Check if year_list is a list or contains a single element.\n",
    "if year_list[0] == year_list[1]:\n",
    "    year_list = [year_list[0]]\n",
    "year_list\n"
   ]
  },
  {
   "cell_type": "code",
   "execution_count": null,
   "metadata": {},
   "outputs": [],
   "source": []
  }
 ],
 "metadata": {
  "kernelspec": {
   "display_name": "my_env",
   "language": "python",
   "name": "python3"
  },
  "language_info": {
   "codemirror_mode": {
    "name": "ipython",
    "version": 3
   },
   "file_extension": ".py",
   "mimetype": "text/x-python",
   "name": "python",
   "nbconvert_exporter": "python",
   "pygments_lexer": "ipython3",
   "version": "3.11.8"
  }
 },
 "nbformat": 4,
 "nbformat_minor": 2
}
